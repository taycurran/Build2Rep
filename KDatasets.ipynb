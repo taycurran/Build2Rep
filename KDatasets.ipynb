{
 "cells": [
  {
   "cell_type": "code",
   "execution_count": 177,
   "metadata": {},
   "outputs": [],
   "source": [
    "#!pip install category_encoders==2.*\n",
    "#!pip install eli5\n",
    "#!pip install pandas-profiling==2.*\n",
    "#!pip install pdpbox\n",
    "#!pip install shap\n",
    "#!pip install xgboost"
   ]
  },
  {
   "cell_type": "code",
   "execution_count": 178,
   "metadata": {},
   "outputs": [],
   "source": [
    "import pandas as pd\n",
    "import numpy as np\n",
    "import matplotlib.pyplot as plt"
   ]
  },
  {
   "cell_type": "code",
   "execution_count": 179,
   "metadata": {},
   "outputs": [],
   "source": [
    "df = pd.read_csv('complete-collection-of-kaggle-datasets/Kaggle Datasets.csv')\n",
    "df['last_updated'] = pd.to_datetime(df['last_updated'], \n",
    "                                    infer_datetime_format=True)"
   ]
  },
  {
   "cell_type": "code",
   "execution_count": 180,
   "metadata": {},
   "outputs": [
    {
     "name": "stdout",
     "output_type": "stream",
     "text": [
      "(18518, 16)\n"
     ]
    },
    {
     "data": {
      "text/html": [
       "<div>\n",
       "<style scoped>\n",
       "    .dataframe tbody tr th:only-of-type {\n",
       "        vertical-align: middle;\n",
       "    }\n",
       "\n",
       "    .dataframe tbody tr th {\n",
       "        vertical-align: top;\n",
       "    }\n",
       "\n",
       "    .dataframe thead th {\n",
       "        text-align: right;\n",
       "    }\n",
       "</style>\n",
       "<table border=\"1\" class=\"dataframe\">\n",
       "  <thead>\n",
       "    <tr style=\"text-align: right;\">\n",
       "      <th></th>\n",
       "      <th>ref</th>\n",
       "      <th>title</th>\n",
       "      <th>subtitle</th>\n",
       "      <th>creator</th>\n",
       "      <th>description</th>\n",
       "      <th>version</th>\n",
       "      <th>keywords</th>\n",
       "      <th>last_updated</th>\n",
       "      <th>license_name</th>\n",
       "      <th>size</th>\n",
       "      <th>size(bytes)</th>\n",
       "      <th>downloads</th>\n",
       "      <th>discussions</th>\n",
       "      <th>views</th>\n",
       "      <th>likes</th>\n",
       "      <th>kernels</th>\n",
       "    </tr>\n",
       "  </thead>\n",
       "  <tbody>\n",
       "    <tr>\n",
       "      <th>0</th>\n",
       "      <td>mlg-ulb/creditcardfraud</td>\n",
       "      <td>Credit Card Fraud Detection</td>\n",
       "      <td>Anonymized credit card transactions labeled as...</td>\n",
       "      <td>Machine Learning Group - ULB</td>\n",
       "      <td>Context\\n---------\\n\\nIt is important that cre...</td>\n",
       "      <td>3</td>\n",
       "      <td>finance, machine learning, crime</td>\n",
       "      <td>2018-03-23 01:17:27</td>\n",
       "      <td>Database: Open Database, Contents: Database Co...</td>\n",
       "      <td>66MB</td>\n",
       "      <td>69155632</td>\n",
       "      <td>131731</td>\n",
       "      <td>40</td>\n",
       "      <td>3052086</td>\n",
       "      <td>3323</td>\n",
       "      <td>2121</td>\n",
       "    </tr>\n",
       "    <tr>\n",
       "      <th>1</th>\n",
       "      <td>tmdb/tmdb-movie-metadata</td>\n",
       "      <td>TMDB 5000 Movie Dataset</td>\n",
       "      <td>Metadata on ~5,000 movies from TMDb</td>\n",
       "      <td>The Movie Database (TMDb)</td>\n",
       "      <td>### Background\\nWhat can we say about the succ...</td>\n",
       "      <td>2</td>\n",
       "      <td>film</td>\n",
       "      <td>2017-09-28 01:09:12</td>\n",
       "      <td>Other (specified in description)</td>\n",
       "      <td>9MB</td>\n",
       "      <td>9747156</td>\n",
       "      <td>92202</td>\n",
       "      <td>53</td>\n",
       "      <td>630515</td>\n",
       "      <td>1601</td>\n",
       "      <td>1462</td>\n",
       "    </tr>\n",
       "    <tr>\n",
       "      <th>2</th>\n",
       "      <td>hugomathien/soccer</td>\n",
       "      <td>European Soccer Database</td>\n",
       "      <td>25k+ matches, players &amp; teams attributes for E...</td>\n",
       "      <td>Hugo Mathien</td>\n",
       "      <td>The ultimate Soccer database for data analysis...</td>\n",
       "      <td>10</td>\n",
       "      <td>europe, association football</td>\n",
       "      <td>2016-10-23 22:31:38</td>\n",
       "      <td>Database: Open Database, Contents: © Original ...</td>\n",
       "      <td>34MB</td>\n",
       "      <td>36121187</td>\n",
       "      <td>80922</td>\n",
       "      <td>95</td>\n",
       "      <td>638231</td>\n",
       "      <td>1875</td>\n",
       "      <td>1458</td>\n",
       "    </tr>\n",
       "  </tbody>\n",
       "</table>\n",
       "</div>"
      ],
      "text/plain": [
       "                        ref                        title  \\\n",
       "0   mlg-ulb/creditcardfraud  Credit Card Fraud Detection   \n",
       "1  tmdb/tmdb-movie-metadata      TMDB 5000 Movie Dataset   \n",
       "2        hugomathien/soccer     European Soccer Database   \n",
       "\n",
       "                                            subtitle  \\\n",
       "0  Anonymized credit card transactions labeled as...   \n",
       "1                Metadata on ~5,000 movies from TMDb   \n",
       "2  25k+ matches, players & teams attributes for E...   \n",
       "\n",
       "                        creator  \\\n",
       "0  Machine Learning Group - ULB   \n",
       "1     The Movie Database (TMDb)   \n",
       "2                  Hugo Mathien   \n",
       "\n",
       "                                         description  version  \\\n",
       "0  Context\\n---------\\n\\nIt is important that cre...        3   \n",
       "1  ### Background\\nWhat can we say about the succ...        2   \n",
       "2  The ultimate Soccer database for data analysis...       10   \n",
       "\n",
       "                           keywords        last_updated  \\\n",
       "0  finance, machine learning, crime 2018-03-23 01:17:27   \n",
       "1                              film 2017-09-28 01:09:12   \n",
       "2      europe, association football 2016-10-23 22:31:38   \n",
       "\n",
       "                                        license_name  size  size(bytes)  \\\n",
       "0  Database: Open Database, Contents: Database Co...  66MB     69155632   \n",
       "1                   Other (specified in description)   9MB      9747156   \n",
       "2  Database: Open Database, Contents: © Original ...  34MB     36121187   \n",
       "\n",
       "   downloads  discussions    views  likes  kernels  \n",
       "0     131731           40  3052086   3323     2121  \n",
       "1      92202           53   630515   1601     1462  \n",
       "2      80922           95   638231   1875     1458  "
      ]
     },
     "execution_count": 180,
     "metadata": {},
     "output_type": "execute_result"
    }
   ],
   "source": [
    "print(df.shape)\n",
    "df.head(3)"
   ]
  },
  {
   "cell_type": "code",
   "execution_count": 181,
   "metadata": {},
   "outputs": [
    {
     "data": {
      "text/plain": [
       "image data, multiclass classification, agriculture                         1\n",
       "internet, video games, computer science, mobile web                        1\n",
       "economics, linguistics                                                     1\n",
       "data visualization, time series, demographics, vehicles, mortality         1\n",
       "image data, object detection, object recognition, object identification    1\n",
       "Name: keywords, dtype: int64"
      ]
     },
     "execution_count": 181,
     "metadata": {},
     "output_type": "execute_result"
    }
   ],
   "source": [
    "# keywords is NOT separated\n",
    "df['keywords'].value_counts().nsmallest(5)"
   ]
  },
  {
   "cell_type": "code",
   "execution_count": 182,
   "metadata": {},
   "outputs": [
    {
     "data": {
      "text/plain": [
       "12841"
      ]
     },
     "execution_count": 182,
     "metadata": {},
     "output_type": "execute_result"
    }
   ],
   "source": [
    "# keywords has TONS of NaNs\n",
    "df['keywords'].isna().sum()"
   ]
  },
  {
   "cell_type": "markdown",
   "metadata": {},
   "source": [
    "### Expoloring Cardinality of Non-Numeric Variables"
   ]
  },
  {
   "cell_type": "code",
   "execution_count": 183,
   "metadata": {},
   "outputs": [
    {
     "data": {
      "text/html": [
       "<div>\n",
       "<style scoped>\n",
       "    .dataframe tbody tr th:only-of-type {\n",
       "        vertical-align: middle;\n",
       "    }\n",
       "\n",
       "    .dataframe tbody tr th {\n",
       "        vertical-align: top;\n",
       "    }\n",
       "\n",
       "    .dataframe thead th {\n",
       "        text-align: right;\n",
       "    }\n",
       "</style>\n",
       "<table border=\"1\" class=\"dataframe\">\n",
       "  <thead>\n",
       "    <tr style=\"text-align: right;\">\n",
       "      <th></th>\n",
       "      <th>ref</th>\n",
       "      <th>title</th>\n",
       "      <th>subtitle</th>\n",
       "      <th>creator</th>\n",
       "      <th>description</th>\n",
       "      <th>keywords</th>\n",
       "      <th>last_updated</th>\n",
       "      <th>license_name</th>\n",
       "      <th>size</th>\n",
       "    </tr>\n",
       "  </thead>\n",
       "  <tbody>\n",
       "    <tr>\n",
       "      <th>count</th>\n",
       "      <td>18518</td>\n",
       "      <td>18518</td>\n",
       "      <td>8012</td>\n",
       "      <td>18515</td>\n",
       "      <td>18518</td>\n",
       "      <td>5677</td>\n",
       "      <td>18518</td>\n",
       "      <td>18518</td>\n",
       "      <td>18518</td>\n",
       "    </tr>\n",
       "    <tr>\n",
       "      <th>unique</th>\n",
       "      <td>18518</td>\n",
       "      <td>17681</td>\n",
       "      <td>6836</td>\n",
       "      <td>10034</td>\n",
       "      <td>17739</td>\n",
       "      <td>2944</td>\n",
       "      <td>18508</td>\n",
       "      <td>26</td>\n",
       "      <td>2231</td>\n",
       "    </tr>\n",
       "    <tr>\n",
       "      <th>top</th>\n",
       "      <td>pramod722445/savenew16</td>\n",
       "      <td>Titanic</td>\n",
       "      <td>From New York State Open Data</td>\n",
       "      <td>State of New York</td>\n",
       "      <td>### Context\\n\\nThere's a story behind every da...</td>\n",
       "      <td>socrata</td>\n",
       "      <td>2019-02-14 20:22:27</td>\n",
       "      <td>Unknown</td>\n",
       "      <td>2MB</td>\n",
       "    </tr>\n",
       "    <tr>\n",
       "      <th>freq</th>\n",
       "      <td>1</td>\n",
       "      <td>48</td>\n",
       "      <td>230</td>\n",
       "      <td>230</td>\n",
       "      <td>113</td>\n",
       "      <td>637</td>\n",
       "      <td>4</td>\n",
       "      <td>8827</td>\n",
       "      <td>639</td>\n",
       "    </tr>\n",
       "    <tr>\n",
       "      <th>first</th>\n",
       "      <td>NaN</td>\n",
       "      <td>NaN</td>\n",
       "      <td>NaN</td>\n",
       "      <td>NaN</td>\n",
       "      <td>NaN</td>\n",
       "      <td>NaN</td>\n",
       "      <td>2016-04-26 22:33:46</td>\n",
       "      <td>NaN</td>\n",
       "      <td>NaN</td>\n",
       "    </tr>\n",
       "    <tr>\n",
       "      <th>last</th>\n",
       "      <td>NaN</td>\n",
       "      <td>NaN</td>\n",
       "      <td>NaN</td>\n",
       "      <td>NaN</td>\n",
       "      <td>NaN</td>\n",
       "      <td>NaN</td>\n",
       "      <td>2019-07-06 16:18:15</td>\n",
       "      <td>NaN</td>\n",
       "      <td>NaN</td>\n",
       "    </tr>\n",
       "  </tbody>\n",
       "</table>\n",
       "</div>"
      ],
      "text/plain": [
       "                           ref    title                       subtitle  \\\n",
       "count                    18518    18518                           8012   \n",
       "unique                   18518    17681                           6836   \n",
       "top     pramod722445/savenew16  Titanic  From New York State Open Data   \n",
       "freq                         1       48                            230   \n",
       "first                      NaN      NaN                            NaN   \n",
       "last                       NaN      NaN                            NaN   \n",
       "\n",
       "                  creator                                        description  \\\n",
       "count               18515                                              18518   \n",
       "unique              10034                                              17739   \n",
       "top     State of New York  ### Context\\n\\nThere's a story behind every da...   \n",
       "freq                  230                                                113   \n",
       "first                 NaN                                                NaN   \n",
       "last                  NaN                                                NaN   \n",
       "\n",
       "       keywords         last_updated license_name   size  \n",
       "count      5677                18518        18518  18518  \n",
       "unique     2944                18508           26   2231  \n",
       "top     socrata  2019-02-14 20:22:27      Unknown    2MB  \n",
       "freq        637                    4         8827    639  \n",
       "first       NaN  2016-04-26 22:33:46          NaN    NaN  \n",
       "last        NaN  2019-07-06 16:18:15          NaN    NaN  "
      ]
     },
     "execution_count": 183,
     "metadata": {},
     "output_type": "execute_result"
    }
   ],
   "source": [
    "df.describe(exclude='number')"
   ]
  },
  {
   "cell_type": "code",
   "execution_count": 184,
   "metadata": {},
   "outputs": [
    {
     "data": {
      "text/html": [
       "<div>\n",
       "<style scoped>\n",
       "    .dataframe tbody tr th:only-of-type {\n",
       "        vertical-align: middle;\n",
       "    }\n",
       "\n",
       "    .dataframe tbody tr th {\n",
       "        vertical-align: top;\n",
       "    }\n",
       "\n",
       "    .dataframe thead th {\n",
       "        text-align: right;\n",
       "    }\n",
       "</style>\n",
       "<table border=\"1\" class=\"dataframe\">\n",
       "  <thead>\n",
       "    <tr style=\"text-align: right;\">\n",
       "      <th></th>\n",
       "      <th>version</th>\n",
       "      <th>size(bytes)</th>\n",
       "      <th>downloads</th>\n",
       "      <th>discussions</th>\n",
       "      <th>views</th>\n",
       "      <th>likes</th>\n",
       "      <th>kernels</th>\n",
       "    </tr>\n",
       "  </thead>\n",
       "  <tbody>\n",
       "    <tr>\n",
       "      <th>count</th>\n",
       "      <td>18518.000000</td>\n",
       "      <td>1.851800e+04</td>\n",
       "      <td>18518.000000</td>\n",
       "      <td>18518.000000</td>\n",
       "      <td>1.851800e+04</td>\n",
       "      <td>18518.000000</td>\n",
       "      <td>18518.000000</td>\n",
       "    </tr>\n",
       "    <tr>\n",
       "      <th>mean</th>\n",
       "      <td>5.460471</td>\n",
       "      <td>4.204281e+09</td>\n",
       "      <td>394.869424</td>\n",
       "      <td>0.287882</td>\n",
       "      <td>3.083455e+03</td>\n",
       "      <td>9.816233</td>\n",
       "      <td>6.004752</td>\n",
       "    </tr>\n",
       "    <tr>\n",
       "      <th>std</th>\n",
       "      <td>23.842488</td>\n",
       "      <td>4.230264e+11</td>\n",
       "      <td>2673.503306</td>\n",
       "      <td>1.705490</td>\n",
       "      <td>2.792698e+04</td>\n",
       "      <td>62.888877</td>\n",
       "      <td>56.726649</td>\n",
       "    </tr>\n",
       "    <tr>\n",
       "      <th>min</th>\n",
       "      <td>1.000000</td>\n",
       "      <td>2.200000e+01</td>\n",
       "      <td>0.000000</td>\n",
       "      <td>0.000000</td>\n",
       "      <td>2.000000e+00</td>\n",
       "      <td>0.000000</td>\n",
       "      <td>0.000000</td>\n",
       "    </tr>\n",
       "    <tr>\n",
       "      <th>25%</th>\n",
       "      <td>1.000000</td>\n",
       "      <td>4.013425e+04</td>\n",
       "      <td>6.000000</td>\n",
       "      <td>0.000000</td>\n",
       "      <td>1.240000e+02</td>\n",
       "      <td>0.000000</td>\n",
       "      <td>1.000000</td>\n",
       "    </tr>\n",
       "    <tr>\n",
       "      <th>50%</th>\n",
       "      <td>1.000000</td>\n",
       "      <td>1.101386e+06</td>\n",
       "      <td>21.000000</td>\n",
       "      <td>0.000000</td>\n",
       "      <td>3.270000e+02</td>\n",
       "      <td>0.000000</td>\n",
       "      <td>1.000000</td>\n",
       "    </tr>\n",
       "    <tr>\n",
       "      <th>75%</th>\n",
       "      <td>1.000000</td>\n",
       "      <td>4.472701e+07</td>\n",
       "      <td>98.000000</td>\n",
       "      <td>0.000000</td>\n",
       "      <td>9.720000e+02</td>\n",
       "      <td>3.000000</td>\n",
       "      <td>2.000000</td>\n",
       "    </tr>\n",
       "    <tr>\n",
       "      <th>max</th>\n",
       "      <td>370.000000</td>\n",
       "      <td>5.736049e+13</td>\n",
       "      <td>131731.000000</td>\n",
       "      <td>95.000000</td>\n",
       "      <td>3.052086e+06</td>\n",
       "      <td>3323.000000</td>\n",
       "      <td>3810.000000</td>\n",
       "    </tr>\n",
       "  </tbody>\n",
       "</table>\n",
       "</div>"
      ],
      "text/plain": [
       "            version   size(bytes)      downloads   discussions         views  \\\n",
       "count  18518.000000  1.851800e+04   18518.000000  18518.000000  1.851800e+04   \n",
       "mean       5.460471  4.204281e+09     394.869424      0.287882  3.083455e+03   \n",
       "std       23.842488  4.230264e+11    2673.503306      1.705490  2.792698e+04   \n",
       "min        1.000000  2.200000e+01       0.000000      0.000000  2.000000e+00   \n",
       "25%        1.000000  4.013425e+04       6.000000      0.000000  1.240000e+02   \n",
       "50%        1.000000  1.101386e+06      21.000000      0.000000  3.270000e+02   \n",
       "75%        1.000000  4.472701e+07      98.000000      0.000000  9.720000e+02   \n",
       "max      370.000000  5.736049e+13  131731.000000     95.000000  3.052086e+06   \n",
       "\n",
       "              likes       kernels  \n",
       "count  18518.000000  18518.000000  \n",
       "mean       9.816233      6.004752  \n",
       "std       62.888877     56.726649  \n",
       "min        0.000000      0.000000  \n",
       "25%        0.000000      1.000000  \n",
       "50%        0.000000      1.000000  \n",
       "75%        3.000000      2.000000  \n",
       "max     3323.000000   3810.000000  "
      ]
     },
     "execution_count": 184,
     "metadata": {},
     "output_type": "execute_result"
    }
   ],
   "source": [
    "df.describe()"
   ]
  },
  {
   "cell_type": "code",
   "execution_count": 185,
   "metadata": {},
   "outputs": [],
   "source": [
    "def checkCardinality(df):\n",
    "    columns = df.describe(exclude='number').columns\n",
    "    for col in columns:\n",
    "        print(f\"COLUMN: {col}\")\n",
    "        print(f\"nUnique: {df[col].nunique()}\")\n",
    "        print(f\"Perc Uniq: {df[col].nunique() / df.shape[0]}\")\n",
    "        print(\"TOP 5\")\n",
    "        print(df[col].value_counts().nlargest(5))\n",
    "        print('\\n')"
   ]
  },
  {
   "cell_type": "code",
   "execution_count": 186,
   "metadata": {},
   "outputs": [
    {
     "name": "stdout",
     "output_type": "stream",
     "text": [
      "COLUMN: ref\n",
      "nUnique: 18518\n",
      "Perc Uniq: 1.0\n",
      "TOP 5\n",
      "pramod722445/savenew16                       1\n",
      "iluvmahheart/mla-punjab                      1\n",
      "thomaskranzkowski/using-geodata-in-python    1\n",
      "mithesh/melbournehousingdataset              1\n",
      "ruddfawcett/hanzidb                          1\n",
      "Name: ref, dtype: int64\n",
      "\n",
      "\n",
      "COLUMN: title\n",
      "nUnique: 17681\n",
      "Perc Uniq: 0.9548007344205638\n",
      "TOP 5\n",
      "Titanic      48\n",
      "dataset      38\n",
      "titanic      18\n",
      "train.csv    15\n",
      "images       15\n",
      "Name: title, dtype: int64\n",
      "\n",
      "\n",
      "COLUMN: subtitle\n",
      "nUnique: 6836\n",
      "Perc Uniq: 0.369154336321417\n",
      "TOP 5\n",
      "From New York State Open Data     230\n",
      "From New York City Open Data      175\n",
      "From San Francisco Open Data       98\n",
      "From City of Chicago Open Data     82\n",
      "From City of Seattle Open Data     79\n",
      "Name: subtitle, dtype: int64\n",
      "\n",
      "\n",
      "COLUMN: creator\n",
      "nUnique: 10034\n",
      "Perc Uniq: 0.5418511718328113\n",
      "TOP 5\n",
      "State of New York        230\n",
      "City of New York         191\n",
      "City of San Francisco     98\n",
      "mrkmakr                   96\n",
      "Rachael Tatman            93\n",
      "Name: creator, dtype: int64\n",
      "\n",
      "\n",
      "COLUMN: keywords\n",
      "nUnique: 2944\n",
      "Perc Uniq: 0.15898045145264067\n",
      "TOP 5\n",
      "socrata       637\n",
      "finance        75\n",
      "image data     63\n",
      "internet       60\n",
      "economics      54\n",
      "Name: keywords, dtype: int64\n",
      "\n",
      "\n",
      "COLUMN: last_updated\n",
      "nUnique: 18508\n",
      "Perc Uniq: 0.9994599848795767\n",
      "TOP 5\n",
      "2019-02-14 20:22:27    4\n",
      "2019-05-17 14:07:25    2\n",
      "2017-11-30 20:22:06    2\n",
      "2019-05-09 13:01:59    2\n",
      "2019-07-01 04:00:38    2\n",
      "Name: last_updated, dtype: int64\n",
      "\n",
      "\n",
      "COLUMN: license_name\n",
      "nUnique: 26\n",
      "Perc Uniq: 0.0014040393131007668\n",
      "TOP 5\n",
      "Unknown                                                 8827\n",
      "CC0: Public Domain                                      5200\n",
      "Other (specified in description)                        1391\n",
      "Data files © Original Authors                            880\n",
      "Database: Open Database, Contents: Database Contents     536\n",
      "Name: license_name, dtype: int64\n",
      "\n",
      "\n",
      "COLUMN: size\n",
      "nUnique: 2231\n",
      "Perc Uniq: 0.12047737336645425\n",
      "TOP 5\n",
      "2MB    639\n",
      "1MB    530\n",
      "2GB    419\n",
      "2KB    389\n",
      "3MB    387\n",
      "Name: size, dtype: int64\n",
      "\n",
      "\n"
     ]
    }
   ],
   "source": [
    "checkCardinality(df.drop('description', axis=1))"
   ]
  },
  {
   "cell_type": "code",
   "execution_count": 187,
   "metadata": {},
   "outputs": [
    {
     "data": {
      "text/plain": [
       "State of New York                               230\n",
       "City of New York                                191\n",
       "City of San Francisco                            98\n",
       "mrkmakr                                          96\n",
       "Rachael Tatman                                   93\n",
       "pramod                                           92\n",
       "NLTK Data                                        90\n",
       "City of Chicago                                  87\n",
       "FiveThirtyEight                                  85\n",
       "City of Los Angeles                              83\n",
       "City of Seattle                                  78\n",
       "Centers for Medicare &amp; Medicaid Services     62\n",
       "US Census Bureau                                 55\n",
       "Kevin Mader                                      55\n",
       "World Bank                                       55\n",
       "Name: creator, dtype: int64"
      ]
     },
     "execution_count": 187,
     "metadata": {},
     "output_type": "execute_result"
    }
   ],
   "source": [
    "df['creator'].value_counts().nlargest(15)"
   ]
  },
  {
   "cell_type": "code",
   "execution_count": 188,
   "metadata": {},
   "outputs": [
    {
     "data": {
      "text/plain": [
       "From New York State Open Data                             230\n",
       "From New York City Open Data                              175\n",
       "From San Francisco Open Data                               98\n",
       "From City of Chicago Open Data                             82\n",
       "From City of Seattle Open Data                             79\n",
       "From Los Angeles Open Data                                 78\n",
       "Explore Data from FiveThirtyEight                          78\n",
       "Explore open data from the CMS                             55\n",
       "Explore open data from the city of Oakland                 49\n",
       "Explore Time Series from the U.S. Census Bureau            46\n",
       "Explore EU Data from the Joint Research Centre             40\n",
       "Explore Open Data from the Centers for Disease Control     40\n",
       "From World Bank Financial Open Data                        23\n",
       "From World Bank Open Data                                  23\n",
       "Explore EU Data from EU Parliament                         15\n",
       "Name: subtitle, dtype: int64"
      ]
     },
     "execution_count": 188,
     "metadata": {},
     "output_type": "execute_result"
    }
   ],
   "source": [
    "df['subtitle'].value_counts().nlargest(15)"
   ]
  },
  {
   "cell_type": "code",
   "execution_count": 189,
   "metadata": {},
   "outputs": [
    {
     "data": {
      "text/plain": [
       "socrata                                637\n",
       "finance                                 75\n",
       "image data                              63\n",
       "internet                                60\n",
       "economics                               54\n",
       "europe                                  46\n",
       "linguistics                             46\n",
       "crime                                   42\n",
       "nlp                                     41\n",
       "politics                                41\n",
       "video games                             39\n",
       "sports                                  37\n",
       "business                                32\n",
       "world                                   31\n",
       "machine learning, pre-trained model     29\n",
       "Name: keywords, dtype: int64"
      ]
     },
     "execution_count": 189,
     "metadata": {},
     "output_type": "execute_result"
    }
   ],
   "source": [
    "df['keywords'].value_counts().nlargest(15)"
   ]
  },
  {
   "cell_type": "code",
   "execution_count": 190,
   "metadata": {},
   "outputs": [
    {
     "data": {
      "text/plain": [
       "Unknown                                                  8827\n",
       "CC0: Public Domain                                       5200\n",
       "Other (specified in description)                         1391\n",
       "Data files © Original Authors                             880\n",
       "Database: Open Database, Contents: Database Contents      536\n",
       "CC BY-NC-SA 4.0                                           467\n",
       "CC BY-SA 4.0                                              334\n",
       "GPL 2                                                     290\n",
       "Database: Open Database, Contents: © Original Authors     289\n",
       "CC BY-SA 3.0                                              104\n",
       "World Bank Dataset Terms of Use                            91\n",
       "Reddit API Terms                                           27\n",
       "U.S. Government Works                                      24\n",
       "Attribution 4.0 International (CC BY 4.0)                  24\n",
       "GNU Lesser General Public License 3.0                       5\n",
       "Name: license_name, dtype: int64"
      ]
     },
     "execution_count": 190,
     "metadata": {},
     "output_type": "execute_result"
    }
   ],
   "source": [
    "df['license_name'].value_counts().nlargest(15)"
   ]
  },
  {
   "cell_type": "code",
   "execution_count": 191,
   "metadata": {},
   "outputs": [],
   "source": [
    "# Phrases from top scoring description value_counts..\n",
    "# largest value count is 113 5th larest is 10 after that i\n",
    "\n",
    "phrase1 = 'This is a dataset hosted by'\n",
    "kagDefaultDes = \"There's a story behind every dataset and here's your opportunity to share yours.\"\n",
    "kagDefaultDes2 = \"Your data will be in front of the world's largest data science community. What questions do you want to see answered?\""
   ]
  },
  {
   "cell_type": "markdown",
   "metadata": {},
   "source": [
    "### Data Cleaning"
   ]
  },
  {
   "cell_type": "code",
   "execution_count": 192,
   "metadata": {},
   "outputs": [],
   "source": [
    "def lowstrip(series):\n",
    "    series = series.str.lower()\n",
    "    series = series.str.strip()\n",
    "    return series"
   ]
  },
  {
   "cell_type": "code",
   "execution_count": 193,
   "metadata": {},
   "outputs": [
    {
     "name": "stdout",
     "output_type": "stream",
     "text": [
      "(18518, 2)\n"
     ]
    },
    {
     "data": {
      "text/html": [
       "<div>\n",
       "<style scoped>\n",
       "    .dataframe tbody tr th:only-of-type {\n",
       "        vertical-align: middle;\n",
       "    }\n",
       "\n",
       "    .dataframe tbody tr th {\n",
       "        vertical-align: top;\n",
       "    }\n",
       "\n",
       "    .dataframe thead th {\n",
       "        text-align: right;\n",
       "    }\n",
       "</style>\n",
       "<table border=\"1\" class=\"dataframe\">\n",
       "  <thead>\n",
       "    <tr style=\"text-align: right;\">\n",
       "      <th></th>\n",
       "      <th>description_len</th>\n",
       "      <th>kag_deflt_des</th>\n",
       "    </tr>\n",
       "  </thead>\n",
       "  <tbody>\n",
       "    <tr>\n",
       "      <th>0</th>\n",
       "      <td>5060</td>\n",
       "      <td>False</td>\n",
       "    </tr>\n",
       "    <tr>\n",
       "      <th>1</th>\n",
       "      <td>5184</td>\n",
       "      <td>False</td>\n",
       "    </tr>\n",
       "    <tr>\n",
       "      <th>2</th>\n",
       "      <td>3918</td>\n",
       "      <td>False</td>\n",
       "    </tr>\n",
       "    <tr>\n",
       "      <th>3</th>\n",
       "      <td>909</td>\n",
       "      <td>False</td>\n",
       "    </tr>\n",
       "    <tr>\n",
       "      <th>4</th>\n",
       "      <td>2007</td>\n",
       "      <td>False</td>\n",
       "    </tr>\n",
       "  </tbody>\n",
       "</table>\n",
       "</div>"
      ],
      "text/plain": [
       "   description_len  kag_deflt_des\n",
       "0             5060          False\n",
       "1             5184          False\n",
       "2             3918          False\n",
       "3              909          False\n",
       "4             2007          False"
      ]
     },
     "execution_count": 193,
     "metadata": {},
     "output_type": "execute_result"
    }
   ],
   "source": [
    "# TODOOOOOO\n",
    "\n",
    "desDum = pd.DataFrame()\n",
    "\n",
    "desDum['description_len'] = df['description'].str.len()\n",
    "desDum['kag_deflt_des'] = df['description'].str.contains(pat=(kagDefaultDes or kagDefaultDes2), \n",
    "                                                              case=False)\n",
    "print(desDum.shape)\n",
    "desDum.head()"
   ]
  },
  {
   "cell_type": "code",
   "execution_count": 194,
   "metadata": {},
   "outputs": [
    {
     "name": "stdout",
     "output_type": "stream",
     "text": [
      "(18518, 6)\n"
     ]
    },
    {
     "data": {
      "text/html": [
       "<div>\n",
       "<style scoped>\n",
       "    .dataframe tbody tr th:only-of-type {\n",
       "        vertical-align: middle;\n",
       "    }\n",
       "\n",
       "    .dataframe tbody tr th {\n",
       "        vertical-align: top;\n",
       "    }\n",
       "\n",
       "    .dataframe thead th {\n",
       "        text-align: right;\n",
       "    }\n",
       "</style>\n",
       "<table border=\"1\" class=\"dataframe\">\n",
       "  <thead>\n",
       "    <tr style=\"text-align: right;\">\n",
       "      <th></th>\n",
       "      <th>sbt_cont_openData</th>\n",
       "      <th>sbt_cont_explore</th>\n",
       "      <th>sbt_cont_http</th>\n",
       "      <th>sbt_cont_.com</th>\n",
       "      <th>len_subtitl</th>\n",
       "      <th>no_subtitl</th>\n",
       "    </tr>\n",
       "  </thead>\n",
       "  <tbody>\n",
       "    <tr>\n",
       "      <th>0</th>\n",
       "      <td>False</td>\n",
       "      <td>False</td>\n",
       "      <td>False</td>\n",
       "      <td>False</td>\n",
       "      <td>68.0</td>\n",
       "      <td>False</td>\n",
       "    </tr>\n",
       "    <tr>\n",
       "      <th>1</th>\n",
       "      <td>False</td>\n",
       "      <td>False</td>\n",
       "      <td>False</td>\n",
       "      <td>False</td>\n",
       "      <td>35.0</td>\n",
       "      <td>False</td>\n",
       "    </tr>\n",
       "    <tr>\n",
       "      <th>2</th>\n",
       "      <td>False</td>\n",
       "      <td>False</td>\n",
       "      <td>False</td>\n",
       "      <td>False</td>\n",
       "      <td>75.0</td>\n",
       "      <td>False</td>\n",
       "    </tr>\n",
       "    <tr>\n",
       "      <th>3</th>\n",
       "      <td>False</td>\n",
       "      <td>False</td>\n",
       "      <td>False</td>\n",
       "      <td>False</td>\n",
       "      <td>73.0</td>\n",
       "      <td>False</td>\n",
       "    </tr>\n",
       "    <tr>\n",
       "      <th>4</th>\n",
       "      <td>False</td>\n",
       "      <td>False</td>\n",
       "      <td>False</td>\n",
       "      <td>False</td>\n",
       "      <td>72.0</td>\n",
       "      <td>False</td>\n",
       "    </tr>\n",
       "  </tbody>\n",
       "</table>\n",
       "</div>"
      ],
      "text/plain": [
       "  sbt_cont_openData sbt_cont_explore sbt_cont_http sbt_cont_.com  len_subtitl  \\\n",
       "0             False            False         False         False         68.0   \n",
       "1             False            False         False         False         35.0   \n",
       "2             False            False         False         False         75.0   \n",
       "3             False            False         False         False         73.0   \n",
       "4             False            False         False         False         72.0   \n",
       "\n",
       "   no_subtitl  \n",
       "0       False  \n",
       "1       False  \n",
       "2       False  \n",
       "3       False  \n",
       "4       False  "
      ]
     },
     "execution_count": 194,
     "metadata": {},
     "output_type": "execute_result"
    }
   ],
   "source": [
    "# 'subtitle'\n",
    "df['subtitle'] = lowstrip(df['subtitle'])\n",
    "\n",
    "#df['subtitle'].str.contains('open data')\n",
    "#df['subtitle'].str.contains('explore')\n",
    "#df['subtitle'].str.contains('http')\n",
    "#df['subtitle'].str.contains('.com')\n",
    "#df['subtitle'].str.len()\n",
    "#df['subtitle'].isna()\n",
    "\n",
    "sbtDum = pd.DataFrame()\n",
    "sbtDum['sbt_cont_openData'] = df['subtitle'].str.contains('open data')\n",
    "sbtDum['sbt_cont_explore'] = df['subtitle'].str.contains('explore')\n",
    "sbtDum['sbt_cont_http'] = df['subtitle'].str.contains('http')\n",
    "sbtDum['sbt_cont_.com'] = df['subtitle'].str.contains('.com')\n",
    "sbtDum['len_subtitl'] = df['subtitle'].str.len()\n",
    "sbtDum['no_subtitl'] = df['subtitle'].isna()\n",
    "sbtDum['len_subtitl'] = sbtDum['len_subtitl'].fillna(0)\n",
    "sbtDum = sbtDum.fillna('False')\n",
    "\n",
    "\n",
    "print(sbtDum.shape)\n",
    "sbtDum.head()"
   ]
  },
  {
   "cell_type": "code",
   "execution_count": 195,
   "metadata": {},
   "outputs": [
    {
     "name": "stdout",
     "output_type": "stream",
     "text": [
      "(18518, 7)\n"
     ]
    },
    {
     "data": {
      "text/html": [
       "<div>\n",
       "<style scoped>\n",
       "    .dataframe tbody tr th:only-of-type {\n",
       "        vertical-align: middle;\n",
       "    }\n",
       "\n",
       "    .dataframe tbody tr th {\n",
       "        vertical-align: top;\n",
       "    }\n",
       "\n",
       "    .dataframe thead th {\n",
       "        text-align: right;\n",
       "    }\n",
       "</style>\n",
       "<table border=\"1\" class=\"dataframe\">\n",
       "  <thead>\n",
       "    <tr style=\"text-align: right;\">\n",
       "      <th></th>\n",
       "      <th>creator_State</th>\n",
       "      <th>creator_City</th>\n",
       "      <th>creator_mrkmakr</th>\n",
       "      <th>creator_RachaelTatman</th>\n",
       "      <th>creator_NLTK</th>\n",
       "      <th>creator_538</th>\n",
       "      <th>creator_Centers</th>\n",
       "    </tr>\n",
       "  </thead>\n",
       "  <tbody>\n",
       "    <tr>\n",
       "      <th>0</th>\n",
       "      <td>False</td>\n",
       "      <td>False</td>\n",
       "      <td>False</td>\n",
       "      <td>False</td>\n",
       "      <td>False</td>\n",
       "      <td>False</td>\n",
       "      <td>False</td>\n",
       "    </tr>\n",
       "    <tr>\n",
       "      <th>1</th>\n",
       "      <td>False</td>\n",
       "      <td>False</td>\n",
       "      <td>False</td>\n",
       "      <td>False</td>\n",
       "      <td>False</td>\n",
       "      <td>False</td>\n",
       "      <td>False</td>\n",
       "    </tr>\n",
       "    <tr>\n",
       "      <th>2</th>\n",
       "      <td>False</td>\n",
       "      <td>False</td>\n",
       "      <td>False</td>\n",
       "      <td>False</td>\n",
       "      <td>False</td>\n",
       "      <td>False</td>\n",
       "      <td>False</td>\n",
       "    </tr>\n",
       "    <tr>\n",
       "      <th>3</th>\n",
       "      <td>False</td>\n",
       "      <td>False</td>\n",
       "      <td>False</td>\n",
       "      <td>False</td>\n",
       "      <td>False</td>\n",
       "      <td>False</td>\n",
       "      <td>False</td>\n",
       "    </tr>\n",
       "    <tr>\n",
       "      <th>4</th>\n",
       "      <td>False</td>\n",
       "      <td>False</td>\n",
       "      <td>False</td>\n",
       "      <td>False</td>\n",
       "      <td>False</td>\n",
       "      <td>False</td>\n",
       "      <td>False</td>\n",
       "    </tr>\n",
       "  </tbody>\n",
       "</table>\n",
       "</div>"
      ],
      "text/plain": [
       "  creator_State creator_City  creator_mrkmakr  creator_RachaelTatman  \\\n",
       "0         False        False            False                  False   \n",
       "1         False        False            False                  False   \n",
       "2         False        False            False                  False   \n",
       "3         False        False            False                  False   \n",
       "4         False        False            False                  False   \n",
       "\n",
       "   creator_NLTK  creator_538 creator_Centers  \n",
       "0         False        False           False  \n",
       "1         False        False           False  \n",
       "2         False        False           False  \n",
       "3         False        False           False  \n",
       "4         False        False           False  "
      ]
     },
     "execution_count": 195,
     "metadata": {},
     "output_type": "execute_result"
    }
   ],
   "source": [
    "# creator\n",
    "\n",
    "crDum = pd.DataFrame()\n",
    "crDum['creator_State'] = df['creator'].str.contains('state', case=False)\n",
    "crDum['creator_City'] = df['creator'].str.contains('city', case=False)\n",
    "crDum['creator_mrkmakr'] = df['creator'] == 'mrkmakr'\n",
    "crDum['creator_RachaelTatman'] = df['creator'] == 'Rachael Tatman'\n",
    "crDum['creator_NLTK'] = df['creator'] == 'NLTK Data'\n",
    "crDum['creator_538'] = df['creator'] == 'FiveThirtyEight'\n",
    "crDum['creator_Centers'] = df['creator'].str.contains('centers', case=False)\n",
    "crDum = crDum.fillna('False')\n",
    "\n",
    "print(crDum.shape)\n",
    "crDum.head()"
   ]
  },
  {
   "cell_type": "code",
   "execution_count": 196,
   "metadata": {},
   "outputs": [
    {
     "data": {
      "text/plain": [
       "Index(['socrata', 'internet', 'image data', 'finance', 'linguistics',\n",
       "       'business', 'economics', 'demographics', 'politics', 'nlp',\n",
       "       'classification', 'sports', 'healthcare', 'text data', 'crime', 'world',\n",
       "       'languages', 'deep learning', 'data visualization', 'time series',\n",
       "       'machine learning', 'video games', 'education', 'health',\n",
       "       'food and drink', 'multiclass classification', 'image processing',\n",
       "       'united states', 'europe', 'india', 'government', 'geography',\n",
       "       'twitter', 'beginner', 'pre-trained model', 'music', 'weather',\n",
       "       'utility', 'text mining', 'brazil', 'cities', 'history', 'medicine',\n",
       "       'countries', 'public health', 'association football',\n",
       "       'artificial intelligence', 'regression analysis', 'environment', 'law'],\n",
       "      dtype='object')"
      ]
     },
     "execution_count": 196,
     "metadata": {},
     "output_type": "execute_result"
    }
   ],
   "source": [
    "# keywords\n",
    "df['keywords'] = lowstrip(df['keywords'])\n",
    "kw_separated = df['keywords'].str.split(', ', expand=True)\n",
    "kw_separated = kw_separated.stack().dropna()\n",
    "\n",
    "common_kw = kw_separated.value_counts().nlargest(50).index\n",
    "common_kw"
   ]
  },
  {
   "cell_type": "code",
   "execution_count": 197,
   "metadata": {},
   "outputs": [
    {
     "name": "stdout",
     "output_type": "stream",
     "text": [
      "(18518, 51)\n"
     ]
    },
    {
     "data": {
      "text/html": [
       "<div>\n",
       "<style scoped>\n",
       "    .dataframe tbody tr th:only-of-type {\n",
       "        vertical-align: middle;\n",
       "    }\n",
       "\n",
       "    .dataframe tbody tr th {\n",
       "        vertical-align: top;\n",
       "    }\n",
       "\n",
       "    .dataframe thead th {\n",
       "        text-align: right;\n",
       "    }\n",
       "</style>\n",
       "<table border=\"1\" class=\"dataframe\">\n",
       "  <thead>\n",
       "    <tr style=\"text-align: right;\">\n",
       "      <th></th>\n",
       "      <th>kw_socrata</th>\n",
       "      <th>kw_internet</th>\n",
       "      <th>kw_image data</th>\n",
       "      <th>kw_finance</th>\n",
       "      <th>kw_linguistics</th>\n",
       "      <th>kw_business</th>\n",
       "      <th>kw_economics</th>\n",
       "      <th>kw_demographics</th>\n",
       "      <th>kw_politics</th>\n",
       "      <th>kw_nlp</th>\n",
       "      <th>...</th>\n",
       "      <th>kw_history</th>\n",
       "      <th>kw_medicine</th>\n",
       "      <th>kw_countries</th>\n",
       "      <th>kw_public health</th>\n",
       "      <th>kw_association football</th>\n",
       "      <th>kw_artificial intelligence</th>\n",
       "      <th>kw_regression analysis</th>\n",
       "      <th>kw_environment</th>\n",
       "      <th>kw_law</th>\n",
       "      <th>no_keywords</th>\n",
       "    </tr>\n",
       "  </thead>\n",
       "  <tbody>\n",
       "    <tr>\n",
       "      <th>0</th>\n",
       "      <td>False</td>\n",
       "      <td>False</td>\n",
       "      <td>False</td>\n",
       "      <td>True</td>\n",
       "      <td>False</td>\n",
       "      <td>False</td>\n",
       "      <td>False</td>\n",
       "      <td>False</td>\n",
       "      <td>False</td>\n",
       "      <td>False</td>\n",
       "      <td>...</td>\n",
       "      <td>False</td>\n",
       "      <td>False</td>\n",
       "      <td>False</td>\n",
       "      <td>False</td>\n",
       "      <td>False</td>\n",
       "      <td>False</td>\n",
       "      <td>False</td>\n",
       "      <td>False</td>\n",
       "      <td>False</td>\n",
       "      <td>False</td>\n",
       "    </tr>\n",
       "    <tr>\n",
       "      <th>1</th>\n",
       "      <td>False</td>\n",
       "      <td>False</td>\n",
       "      <td>False</td>\n",
       "      <td>False</td>\n",
       "      <td>False</td>\n",
       "      <td>False</td>\n",
       "      <td>False</td>\n",
       "      <td>False</td>\n",
       "      <td>False</td>\n",
       "      <td>False</td>\n",
       "      <td>...</td>\n",
       "      <td>False</td>\n",
       "      <td>False</td>\n",
       "      <td>False</td>\n",
       "      <td>False</td>\n",
       "      <td>False</td>\n",
       "      <td>False</td>\n",
       "      <td>False</td>\n",
       "      <td>False</td>\n",
       "      <td>False</td>\n",
       "      <td>False</td>\n",
       "    </tr>\n",
       "    <tr>\n",
       "      <th>2</th>\n",
       "      <td>False</td>\n",
       "      <td>False</td>\n",
       "      <td>False</td>\n",
       "      <td>False</td>\n",
       "      <td>False</td>\n",
       "      <td>False</td>\n",
       "      <td>False</td>\n",
       "      <td>False</td>\n",
       "      <td>False</td>\n",
       "      <td>False</td>\n",
       "      <td>...</td>\n",
       "      <td>False</td>\n",
       "      <td>False</td>\n",
       "      <td>False</td>\n",
       "      <td>False</td>\n",
       "      <td>True</td>\n",
       "      <td>False</td>\n",
       "      <td>False</td>\n",
       "      <td>False</td>\n",
       "      <td>False</td>\n",
       "      <td>False</td>\n",
       "    </tr>\n",
       "    <tr>\n",
       "      <th>3</th>\n",
       "      <td>False</td>\n",
       "      <td>True</td>\n",
       "      <td>False</td>\n",
       "      <td>False</td>\n",
       "      <td>False</td>\n",
       "      <td>False</td>\n",
       "      <td>False</td>\n",
       "      <td>False</td>\n",
       "      <td>False</td>\n",
       "      <td>False</td>\n",
       "      <td>...</td>\n",
       "      <td>False</td>\n",
       "      <td>False</td>\n",
       "      <td>False</td>\n",
       "      <td>False</td>\n",
       "      <td>False</td>\n",
       "      <td>False</td>\n",
       "      <td>False</td>\n",
       "      <td>False</td>\n",
       "      <td>False</td>\n",
       "      <td>False</td>\n",
       "    </tr>\n",
       "    <tr>\n",
       "      <th>4</th>\n",
       "      <td>False</td>\n",
       "      <td>False</td>\n",
       "      <td>False</td>\n",
       "      <td>False</td>\n",
       "      <td>False</td>\n",
       "      <td>False</td>\n",
       "      <td>False</td>\n",
       "      <td>False</td>\n",
       "      <td>False</td>\n",
       "      <td>False</td>\n",
       "      <td>...</td>\n",
       "      <td>False</td>\n",
       "      <td>False</td>\n",
       "      <td>False</td>\n",
       "      <td>False</td>\n",
       "      <td>False</td>\n",
       "      <td>False</td>\n",
       "      <td>False</td>\n",
       "      <td>False</td>\n",
       "      <td>False</td>\n",
       "      <td>False</td>\n",
       "    </tr>\n",
       "  </tbody>\n",
       "</table>\n",
       "<p>5 rows × 51 columns</p>\n",
       "</div>"
      ],
      "text/plain": [
       "  kw_socrata kw_internet kw_image data kw_finance kw_linguistics kw_business  \\\n",
       "0      False       False         False       True          False       False   \n",
       "1      False       False         False      False          False       False   \n",
       "2      False       False         False      False          False       False   \n",
       "3      False        True         False      False          False       False   \n",
       "4      False       False         False      False          False       False   \n",
       "\n",
       "  kw_economics kw_demographics kw_politics kw_nlp  ... kw_history kw_medicine  \\\n",
       "0        False           False       False  False  ...      False       False   \n",
       "1        False           False       False  False  ...      False       False   \n",
       "2        False           False       False  False  ...      False       False   \n",
       "3        False           False       False  False  ...      False       False   \n",
       "4        False           False       False  False  ...      False       False   \n",
       "\n",
       "  kw_countries kw_public health kw_association football  \\\n",
       "0        False            False                   False   \n",
       "1        False            False                   False   \n",
       "2        False            False                    True   \n",
       "3        False            False                   False   \n",
       "4        False            False                   False   \n",
       "\n",
       "  kw_artificial intelligence kw_regression analysis kw_environment kw_law  \\\n",
       "0                      False                  False          False  False   \n",
       "1                      False                  False          False  False   \n",
       "2                      False                  False          False  False   \n",
       "3                      False                  False          False  False   \n",
       "4                      False                  False          False  False   \n",
       "\n",
       "  no_keywords  \n",
       "0       False  \n",
       "1       False  \n",
       "2       False  \n",
       "3       False  \n",
       "4       False  \n",
       "\n",
       "[5 rows x 51 columns]"
      ]
     },
     "execution_count": 197,
     "metadata": {},
     "output_type": "execute_result"
    }
   ],
   "source": [
    "kwDum = pd.DataFrame()\n",
    "\n",
    "for kw in common_kw:\n",
    "    kwDum[f'kw_{kw}'] = df['keywords'].str.contains(kw)\n",
    "\n",
    "kwDum['no_keywords'] = df['keywords'].isna()\n",
    "\n",
    "kwDum = kwDum.fillna('False')\n",
    "\n",
    "print(kwDum.shape)\n",
    "kwDum.head()"
   ]
  },
  {
   "cell_type": "code",
   "execution_count": 198,
   "metadata": {},
   "outputs": [],
   "source": [
    "# license_name\n",
    "# I can One-Hot Encode These\n",
    "assert df['license_name'].nunique() == 26"
   ]
  },
  {
   "cell_type": "code",
   "execution_count": 199,
   "metadata": {},
   "outputs": [
    {
     "name": "stdout",
     "output_type": "stream",
     "text": [
      "55554\n"
     ]
    },
    {
     "data": {
      "text/html": [
       "<div>\n",
       "<style scoped>\n",
       "    .dataframe tbody tr th:only-of-type {\n",
       "        vertical-align: middle;\n",
       "    }\n",
       "\n",
       "    .dataframe tbody tr th {\n",
       "        vertical-align: top;\n",
       "    }\n",
       "\n",
       "    .dataframe thead th {\n",
       "        text-align: right;\n",
       "    }\n",
       "</style>\n",
       "<table border=\"1\" class=\"dataframe\">\n",
       "  <thead>\n",
       "    <tr style=\"text-align: right;\">\n",
       "      <th></th>\n",
       "      <th>size_MB</th>\n",
       "      <th>size_GB</th>\n",
       "      <th>size_KB</th>\n",
       "    </tr>\n",
       "  </thead>\n",
       "  <tbody>\n",
       "    <tr>\n",
       "      <th>0</th>\n",
       "      <td>True</td>\n",
       "      <td>False</td>\n",
       "      <td>False</td>\n",
       "    </tr>\n",
       "    <tr>\n",
       "      <th>1</th>\n",
       "      <td>True</td>\n",
       "      <td>False</td>\n",
       "      <td>False</td>\n",
       "    </tr>\n",
       "    <tr>\n",
       "      <th>2</th>\n",
       "      <td>True</td>\n",
       "      <td>False</td>\n",
       "      <td>False</td>\n",
       "    </tr>\n",
       "    <tr>\n",
       "      <th>3</th>\n",
       "      <td>True</td>\n",
       "      <td>False</td>\n",
       "      <td>False</td>\n",
       "    </tr>\n",
       "    <tr>\n",
       "      <th>4</th>\n",
       "      <td>True</td>\n",
       "      <td>False</td>\n",
       "      <td>False</td>\n",
       "    </tr>\n",
       "  </tbody>\n",
       "</table>\n",
       "</div>"
      ],
      "text/plain": [
       "   size_MB  size_GB  size_KB\n",
       "0     True    False    False\n",
       "1     True    False    False\n",
       "2     True    False    False\n",
       "3     True    False    False\n",
       "4     True    False    False"
      ]
     },
     "execution_count": 199,
     "metadata": {},
     "output_type": "execute_result"
    }
   ],
   "source": [
    "# size\n",
    "\n",
    "df['size'].value_counts().nlargest(15)\n",
    "sizeDum = pd.DataFrame()\n",
    "sizeDum['size_MB'] = df['size'].str.contains('MB')\n",
    "sizeDum['size_GB'] = df['size'].str.contains('GB')\n",
    "sizeDum['size_KB'] = df['size'].str.contains('KB')\n",
    "\n",
    "print(sizeDum.size)\n",
    "sizeDum.head()"
   ]
  },
  {
   "cell_type": "markdown",
   "metadata": {},
   "source": [
    "### Assemble Final Dataframe"
   ]
  },
  {
   "cell_type": "code",
   "execution_count": 200,
   "metadata": {},
   "outputs": [],
   "source": [
    "allUnique = ['ref', 'description', 'title']\n",
    "highCardinality = ['subtitle', 'creator', 'keywords', 'size']\n",
    "dummyCols = [sizeDum, kwDum, crDum, sbtDum, desDum]"
   ]
  },
  {
   "cell_type": "code",
   "execution_count": 201,
   "metadata": {},
   "outputs": [
    {
     "data": {
      "text/html": [
       "<div>\n",
       "<style scoped>\n",
       "    .dataframe tbody tr th:only-of-type {\n",
       "        vertical-align: middle;\n",
       "    }\n",
       "\n",
       "    .dataframe tbody tr th {\n",
       "        vertical-align: top;\n",
       "    }\n",
       "\n",
       "    .dataframe thead th {\n",
       "        text-align: right;\n",
       "    }\n",
       "</style>\n",
       "<table border=\"1\" class=\"dataframe\">\n",
       "  <thead>\n",
       "    <tr style=\"text-align: right;\">\n",
       "      <th></th>\n",
       "      <th>ref</th>\n",
       "      <th>title</th>\n",
       "      <th>subtitle</th>\n",
       "      <th>creator</th>\n",
       "      <th>description</th>\n",
       "      <th>version</th>\n",
       "      <th>keywords</th>\n",
       "      <th>last_updated</th>\n",
       "      <th>license_name</th>\n",
       "      <th>size</th>\n",
       "      <th>size(bytes)</th>\n",
       "      <th>downloads</th>\n",
       "      <th>discussions</th>\n",
       "      <th>views</th>\n",
       "      <th>likes</th>\n",
       "      <th>kernels</th>\n",
       "    </tr>\n",
       "  </thead>\n",
       "  <tbody>\n",
       "    <tr>\n",
       "      <th>0</th>\n",
       "      <td>mlg-ulb/creditcardfraud</td>\n",
       "      <td>Credit Card Fraud Detection</td>\n",
       "      <td>anonymized credit card transactions labeled as...</td>\n",
       "      <td>Machine Learning Group - ULB</td>\n",
       "      <td>Context\\n---------\\n\\nIt is important that cre...</td>\n",
       "      <td>3</td>\n",
       "      <td>finance, machine learning, crime</td>\n",
       "      <td>2018-03-23 01:17:27</td>\n",
       "      <td>Database: Open Database, Contents: Database Co...</td>\n",
       "      <td>66MB</td>\n",
       "      <td>69155632</td>\n",
       "      <td>131731</td>\n",
       "      <td>40</td>\n",
       "      <td>3052086</td>\n",
       "      <td>3323</td>\n",
       "      <td>2121</td>\n",
       "    </tr>\n",
       "    <tr>\n",
       "      <th>1</th>\n",
       "      <td>tmdb/tmdb-movie-metadata</td>\n",
       "      <td>TMDB 5000 Movie Dataset</td>\n",
       "      <td>metadata on ~5,000 movies from tmdb</td>\n",
       "      <td>The Movie Database (TMDb)</td>\n",
       "      <td>### Background\\nWhat can we say about the succ...</td>\n",
       "      <td>2</td>\n",
       "      <td>film</td>\n",
       "      <td>2017-09-28 01:09:12</td>\n",
       "      <td>Other (specified in description)</td>\n",
       "      <td>9MB</td>\n",
       "      <td>9747156</td>\n",
       "      <td>92202</td>\n",
       "      <td>53</td>\n",
       "      <td>630515</td>\n",
       "      <td>1601</td>\n",
       "      <td>1462</td>\n",
       "    </tr>\n",
       "  </tbody>\n",
       "</table>\n",
       "</div>"
      ],
      "text/plain": [
       "                        ref                        title  \\\n",
       "0   mlg-ulb/creditcardfraud  Credit Card Fraud Detection   \n",
       "1  tmdb/tmdb-movie-metadata      TMDB 5000 Movie Dataset   \n",
       "\n",
       "                                            subtitle  \\\n",
       "0  anonymized credit card transactions labeled as...   \n",
       "1                metadata on ~5,000 movies from tmdb   \n",
       "\n",
       "                        creator  \\\n",
       "0  Machine Learning Group - ULB   \n",
       "1     The Movie Database (TMDb)   \n",
       "\n",
       "                                         description  version  \\\n",
       "0  Context\\n---------\\n\\nIt is important that cre...        3   \n",
       "1  ### Background\\nWhat can we say about the succ...        2   \n",
       "\n",
       "                           keywords        last_updated  \\\n",
       "0  finance, machine learning, crime 2018-03-23 01:17:27   \n",
       "1                              film 2017-09-28 01:09:12   \n",
       "\n",
       "                                        license_name  size  size(bytes)  \\\n",
       "0  Database: Open Database, Contents: Database Co...  66MB     69155632   \n",
       "1                   Other (specified in description)   9MB      9747156   \n",
       "\n",
       "   downloads  discussions    views  likes  kernels  \n",
       "0     131731           40  3052086   3323     2121  \n",
       "1      92202           53   630515   1601     1462  "
      ]
     },
     "execution_count": 201,
     "metadata": {},
     "output_type": "execute_result"
    }
   ],
   "source": [
    "df.head(2)"
   ]
  },
  {
   "cell_type": "code",
   "execution_count": 202,
   "metadata": {},
   "outputs": [],
   "source": [
    "dfReg = df\n",
    "dfReg = dfReg.drop(allUnique, axis=1)\n",
    "dfReg = dfReg.drop('last_updated', axis=1)\n",
    "dfReg = dfReg.drop(highCardinality, axis=1)"
   ]
  },
  {
   "cell_type": "code",
   "execution_count": 203,
   "metadata": {},
   "outputs": [],
   "source": [
    "dummyDf = pd.concat(dummyCols, axis=1)\n",
    "\n",
    "# Checks Before Concat\n",
    "assert dummyDf.isna().sum().sum() == 0\n",
    "assert dfReg.isna().sum().sum() == 0\n",
    "assert dummyDf.shape[0] == dfReg.shape[0]"
   ]
  },
  {
   "cell_type": "code",
   "execution_count": 204,
   "metadata": {},
   "outputs": [],
   "source": [
    "dfReg = pd.concat([dfReg, dummyDf], axis=1)"
   ]
  },
  {
   "cell_type": "code",
   "execution_count": 205,
   "metadata": {},
   "outputs": [
    {
     "name": "stdout",
     "output_type": "stream",
     "text": [
      "(18518, 77)\n"
     ]
    },
    {
     "data": {
      "text/html": [
       "<div>\n",
       "<style scoped>\n",
       "    .dataframe tbody tr th:only-of-type {\n",
       "        vertical-align: middle;\n",
       "    }\n",
       "\n",
       "    .dataframe tbody tr th {\n",
       "        vertical-align: top;\n",
       "    }\n",
       "\n",
       "    .dataframe thead th {\n",
       "        text-align: right;\n",
       "    }\n",
       "</style>\n",
       "<table border=\"1\" class=\"dataframe\">\n",
       "  <thead>\n",
       "    <tr style=\"text-align: right;\">\n",
       "      <th></th>\n",
       "      <th>version</th>\n",
       "      <th>license_name</th>\n",
       "      <th>size(bytes)</th>\n",
       "      <th>downloads</th>\n",
       "      <th>discussions</th>\n",
       "      <th>views</th>\n",
       "      <th>likes</th>\n",
       "      <th>kernels</th>\n",
       "      <th>size_MB</th>\n",
       "      <th>size_GB</th>\n",
       "      <th>...</th>\n",
       "      <th>creator_538</th>\n",
       "      <th>creator_Centers</th>\n",
       "      <th>sbt_cont_openData</th>\n",
       "      <th>sbt_cont_explore</th>\n",
       "      <th>sbt_cont_http</th>\n",
       "      <th>sbt_cont_.com</th>\n",
       "      <th>len_subtitl</th>\n",
       "      <th>no_subtitl</th>\n",
       "      <th>description_len</th>\n",
       "      <th>kag_deflt_des</th>\n",
       "    </tr>\n",
       "  </thead>\n",
       "  <tbody>\n",
       "    <tr>\n",
       "      <th>0</th>\n",
       "      <td>3</td>\n",
       "      <td>Database: Open Database, Contents: Database Co...</td>\n",
       "      <td>69155632</td>\n",
       "      <td>131731</td>\n",
       "      <td>40</td>\n",
       "      <td>3052086</td>\n",
       "      <td>3323</td>\n",
       "      <td>2121</td>\n",
       "      <td>True</td>\n",
       "      <td>False</td>\n",
       "      <td>...</td>\n",
       "      <td>False</td>\n",
       "      <td>False</td>\n",
       "      <td>False</td>\n",
       "      <td>False</td>\n",
       "      <td>False</td>\n",
       "      <td>False</td>\n",
       "      <td>68.0</td>\n",
       "      <td>False</td>\n",
       "      <td>5060</td>\n",
       "      <td>False</td>\n",
       "    </tr>\n",
       "    <tr>\n",
       "      <th>1</th>\n",
       "      <td>2</td>\n",
       "      <td>Other (specified in description)</td>\n",
       "      <td>9747156</td>\n",
       "      <td>92202</td>\n",
       "      <td>53</td>\n",
       "      <td>630515</td>\n",
       "      <td>1601</td>\n",
       "      <td>1462</td>\n",
       "      <td>True</td>\n",
       "      <td>False</td>\n",
       "      <td>...</td>\n",
       "      <td>False</td>\n",
       "      <td>False</td>\n",
       "      <td>False</td>\n",
       "      <td>False</td>\n",
       "      <td>False</td>\n",
       "      <td>False</td>\n",
       "      <td>35.0</td>\n",
       "      <td>False</td>\n",
       "      <td>5184</td>\n",
       "      <td>False</td>\n",
       "    </tr>\n",
       "    <tr>\n",
       "      <th>2</th>\n",
       "      <td>10</td>\n",
       "      <td>Database: Open Database, Contents: © Original ...</td>\n",
       "      <td>36121187</td>\n",
       "      <td>80922</td>\n",
       "      <td>95</td>\n",
       "      <td>638231</td>\n",
       "      <td>1875</td>\n",
       "      <td>1458</td>\n",
       "      <td>True</td>\n",
       "      <td>False</td>\n",
       "      <td>...</td>\n",
       "      <td>False</td>\n",
       "      <td>False</td>\n",
       "      <td>False</td>\n",
       "      <td>False</td>\n",
       "      <td>False</td>\n",
       "      <td>False</td>\n",
       "      <td>75.0</td>\n",
       "      <td>False</td>\n",
       "      <td>3918</td>\n",
       "      <td>False</td>\n",
       "    </tr>\n",
       "  </tbody>\n",
       "</table>\n",
       "<p>3 rows × 77 columns</p>\n",
       "</div>"
      ],
      "text/plain": [
       "   version                                       license_name  size(bytes)  \\\n",
       "0        3  Database: Open Database, Contents: Database Co...     69155632   \n",
       "1        2                   Other (specified in description)      9747156   \n",
       "2       10  Database: Open Database, Contents: © Original ...     36121187   \n",
       "\n",
       "   downloads  discussions    views  likes  kernels  size_MB  size_GB  ...  \\\n",
       "0     131731           40  3052086   3323     2121     True    False  ...   \n",
       "1      92202           53   630515   1601     1462     True    False  ...   \n",
       "2      80922           95   638231   1875     1458     True    False  ...   \n",
       "\n",
       "   creator_538 creator_Centers sbt_cont_openData sbt_cont_explore  \\\n",
       "0        False           False             False            False   \n",
       "1        False           False             False            False   \n",
       "2        False           False             False            False   \n",
       "\n",
       "  sbt_cont_http sbt_cont_.com len_subtitl no_subtitl description_len  \\\n",
       "0         False         False        68.0      False            5060   \n",
       "1         False         False        35.0      False            5184   \n",
       "2         False         False        75.0      False            3918   \n",
       "\n",
       "  kag_deflt_des  \n",
       "0         False  \n",
       "1         False  \n",
       "2         False  \n",
       "\n",
       "[3 rows x 77 columns]"
      ]
     },
     "execution_count": 205,
     "metadata": {},
     "output_type": "execute_result"
    }
   ],
   "source": [
    "print(dfReg.shape)\n",
    "dfReg.head(3)"
   ]
  },
  {
   "cell_type": "markdown",
   "metadata": {},
   "source": [
    "### Fix Date Column"
   ]
  },
  {
   "cell_type": "code",
   "execution_count": 206,
   "metadata": {},
   "outputs": [],
   "source": [
    "# May be a source of data leakage....\n",
    "\n",
    "#delta = mostUpdated - df['last_updated']\n",
    "#dfReg['days_since_updated'] = delta.dt.days"
   ]
  },
  {
   "cell_type": "markdown",
   "metadata": {},
   "source": [
    "## Project Starts"
   ]
  },
  {
   "cell_type": "code",
   "execution_count": 207,
   "metadata": {},
   "outputs": [],
   "source": [
    "# Establish Target\n",
    "\n",
    "target = 'downloads'\n",
    "possible_targets = ['discussions', 'views', 'likes', 'kernels']\n",
    "\n",
    "dfDnld = dfReg\n",
    "dfDnld = dfDnld.drop(possible_targets, axis=1)\n",
    "\n",
    "dfLen = len(dfDnld[target])"
   ]
  },
  {
   "cell_type": "code",
   "execution_count": 208,
   "metadata": {},
   "outputs": [
    {
     "name": "stdout",
     "output_type": "stream",
     "text": [
      "Total NaNs: 0\n",
      "Shape: (18518, 73)\n"
     ]
    },
    {
     "data": {
      "text/html": [
       "<div>\n",
       "<style scoped>\n",
       "    .dataframe tbody tr th:only-of-type {\n",
       "        vertical-align: middle;\n",
       "    }\n",
       "\n",
       "    .dataframe tbody tr th {\n",
       "        vertical-align: top;\n",
       "    }\n",
       "\n",
       "    .dataframe thead th {\n",
       "        text-align: right;\n",
       "    }\n",
       "</style>\n",
       "<table border=\"1\" class=\"dataframe\">\n",
       "  <thead>\n",
       "    <tr style=\"text-align: right;\">\n",
       "      <th></th>\n",
       "      <th>version</th>\n",
       "      <th>license_name</th>\n",
       "      <th>size(bytes)</th>\n",
       "      <th>downloads</th>\n",
       "      <th>size_MB</th>\n",
       "      <th>size_GB</th>\n",
       "      <th>size_KB</th>\n",
       "      <th>kw_socrata</th>\n",
       "      <th>kw_internet</th>\n",
       "      <th>kw_image data</th>\n",
       "      <th>...</th>\n",
       "      <th>creator_538</th>\n",
       "      <th>creator_Centers</th>\n",
       "      <th>sbt_cont_openData</th>\n",
       "      <th>sbt_cont_explore</th>\n",
       "      <th>sbt_cont_http</th>\n",
       "      <th>sbt_cont_.com</th>\n",
       "      <th>len_subtitl</th>\n",
       "      <th>no_subtitl</th>\n",
       "      <th>description_len</th>\n",
       "      <th>kag_deflt_des</th>\n",
       "    </tr>\n",
       "  </thead>\n",
       "  <tbody>\n",
       "    <tr>\n",
       "      <th>0</th>\n",
       "      <td>3</td>\n",
       "      <td>Database: Open Database, Contents: Database Co...</td>\n",
       "      <td>69155632</td>\n",
       "      <td>131731</td>\n",
       "      <td>True</td>\n",
       "      <td>False</td>\n",
       "      <td>False</td>\n",
       "      <td>False</td>\n",
       "      <td>False</td>\n",
       "      <td>False</td>\n",
       "      <td>...</td>\n",
       "      <td>False</td>\n",
       "      <td>False</td>\n",
       "      <td>False</td>\n",
       "      <td>False</td>\n",
       "      <td>False</td>\n",
       "      <td>False</td>\n",
       "      <td>68.0</td>\n",
       "      <td>False</td>\n",
       "      <td>5060</td>\n",
       "      <td>False</td>\n",
       "    </tr>\n",
       "    <tr>\n",
       "      <th>1</th>\n",
       "      <td>2</td>\n",
       "      <td>Other (specified in description)</td>\n",
       "      <td>9747156</td>\n",
       "      <td>92202</td>\n",
       "      <td>True</td>\n",
       "      <td>False</td>\n",
       "      <td>False</td>\n",
       "      <td>False</td>\n",
       "      <td>False</td>\n",
       "      <td>False</td>\n",
       "      <td>...</td>\n",
       "      <td>False</td>\n",
       "      <td>False</td>\n",
       "      <td>False</td>\n",
       "      <td>False</td>\n",
       "      <td>False</td>\n",
       "      <td>False</td>\n",
       "      <td>35.0</td>\n",
       "      <td>False</td>\n",
       "      <td>5184</td>\n",
       "      <td>False</td>\n",
       "    </tr>\n",
       "  </tbody>\n",
       "</table>\n",
       "<p>2 rows × 73 columns</p>\n",
       "</div>"
      ],
      "text/plain": [
       "   version                                       license_name  size(bytes)  \\\n",
       "0        3  Database: Open Database, Contents: Database Co...     69155632   \n",
       "1        2                   Other (specified in description)      9747156   \n",
       "\n",
       "   downloads  size_MB  size_GB  size_KB kw_socrata kw_internet kw_image data  \\\n",
       "0     131731     True    False    False      False       False         False   \n",
       "1      92202     True    False    False      False       False         False   \n",
       "\n",
       "   ... creator_538 creator_Centers sbt_cont_openData sbt_cont_explore  \\\n",
       "0  ...       False           False             False            False   \n",
       "1  ...       False           False             False            False   \n",
       "\n",
       "  sbt_cont_http sbt_cont_.com len_subtitl no_subtitl description_len  \\\n",
       "0         False         False        68.0      False            5060   \n",
       "1         False         False        35.0      False            5184   \n",
       "\n",
       "  kag_deflt_des  \n",
       "0         False  \n",
       "1         False  \n",
       "\n",
       "[2 rows x 73 columns]"
      ]
     },
     "execution_count": 208,
     "metadata": {},
     "output_type": "execute_result"
    }
   ],
   "source": [
    "print(f\"Total NaNs: {dfDnld.isna().sum().sum()}\")\n",
    "print(f\"Shape: {dfDnld.shape}\")\n",
    "dfDnld.head(2)"
   ]
  },
  {
   "cell_type": "code",
   "execution_count": 209,
   "metadata": {},
   "outputs": [],
   "source": [
    "dfDnld.to_csv('kagDataSets.csv')"
   ]
  },
  {
   "cell_type": "markdown",
   "metadata": {},
   "source": [
    "## Baseline"
   ]
  },
  {
   "cell_type": "code",
   "execution_count": 210,
   "metadata": {},
   "outputs": [
    {
     "data": {
      "text/plain": [
       "394.86942434388163"
      ]
     },
     "execution_count": 210,
     "metadata": {},
     "output_type": "execute_result"
    }
   ],
   "source": [
    "# Baseline Metric\n",
    "\n",
    "targetMean = dfDnld[target].mean()\n",
    "basePred = [targetMean] * dfLen\n",
    "targetMean"
   ]
  },
  {
   "cell_type": "code",
   "execution_count": 211,
   "metadata": {},
   "outputs": [
    {
     "data": {
      "text/plain": [
       "615.7832924629158"
      ]
     },
     "execution_count": 211,
     "metadata": {},
     "output_type": "execute_result"
    }
   ],
   "source": [
    "from sklearn.metrics import mean_absolute_error\n",
    "baseMAE = mean_absolute_error(dfDnld[target], basePred)\n",
    "baseMAE"
   ]
  },
  {
   "cell_type": "markdown",
   "metadata": {},
   "source": [
    "### Train-Val-Test Split"
   ]
  },
  {
   "cell_type": "code",
   "execution_count": 212,
   "metadata": {},
   "outputs": [],
   "source": [
    "from sklearn.model_selection import train_test_split\n",
    "\n",
    "X_train, X_test, y_train, y_test = train_test_split(\n",
    "                                    dfDnld.drop(columns=target),\n",
    "                                    dfDnld[target],\n",
    "                                    test_size=0.18,\n",
    "                                    random_state=42\n",
    "                                    )"
   ]
  },
  {
   "cell_type": "code",
   "execution_count": 213,
   "metadata": {},
   "outputs": [],
   "source": [
    "X_valA, X_valB, y_valA, y_valB = train_test_split(\n",
    "                                    X_train,\n",
    "                                    y_train,\n",
    "                                    test_size=0.01,\n",
    "                                    random_state=42\n",
    "                                    )"
   ]
  },
  {
   "cell_type": "code",
   "execution_count": 214,
   "metadata": {},
   "outputs": [
    {
     "data": {
      "text/html": [
       "<div>\n",
       "<style scoped>\n",
       "    .dataframe tbody tr th:only-of-type {\n",
       "        vertical-align: middle;\n",
       "    }\n",
       "\n",
       "    .dataframe tbody tr th {\n",
       "        vertical-align: top;\n",
       "    }\n",
       "\n",
       "    .dataframe thead th {\n",
       "        text-align: right;\n",
       "    }\n",
       "</style>\n",
       "<table border=\"1\" class=\"dataframe\">\n",
       "  <thead>\n",
       "    <tr style=\"text-align: right;\">\n",
       "      <th></th>\n",
       "      <th>version</th>\n",
       "      <th>license_name</th>\n",
       "      <th>size(bytes)</th>\n",
       "      <th>size_MB</th>\n",
       "      <th>size_GB</th>\n",
       "      <th>size_KB</th>\n",
       "      <th>kw_socrata</th>\n",
       "      <th>kw_internet</th>\n",
       "      <th>kw_image data</th>\n",
       "      <th>kw_finance</th>\n",
       "      <th>...</th>\n",
       "      <th>creator_538</th>\n",
       "      <th>creator_Centers</th>\n",
       "      <th>sbt_cont_openData</th>\n",
       "      <th>sbt_cont_explore</th>\n",
       "      <th>sbt_cont_http</th>\n",
       "      <th>sbt_cont_.com</th>\n",
       "      <th>len_subtitl</th>\n",
       "      <th>no_subtitl</th>\n",
       "      <th>description_len</th>\n",
       "      <th>kag_deflt_des</th>\n",
       "    </tr>\n",
       "  </thead>\n",
       "  <tbody>\n",
       "    <tr>\n",
       "      <th>13035</th>\n",
       "      <td>1</td>\n",
       "      <td>CC0: Public Domain</td>\n",
       "      <td>174</td>\n",
       "      <td>False</td>\n",
       "      <td>False</td>\n",
       "      <td>False</td>\n",
       "      <td>False</td>\n",
       "      <td>False</td>\n",
       "      <td>False</td>\n",
       "      <td>False</td>\n",
       "      <td>...</td>\n",
       "      <td>False</td>\n",
       "      <td>False</td>\n",
       "      <td>False</td>\n",
       "      <td>False</td>\n",
       "      <td>False</td>\n",
       "      <td>False</td>\n",
       "      <td>0.0</td>\n",
       "      <td>True</td>\n",
       "      <td>157</td>\n",
       "      <td>False</td>\n",
       "    </tr>\n",
       "    <tr>\n",
       "      <th>2216</th>\n",
       "      <td>1</td>\n",
       "      <td>CC0: Public Domain</td>\n",
       "      <td>1548100</td>\n",
       "      <td>True</td>\n",
       "      <td>False</td>\n",
       "      <td>False</td>\n",
       "      <td>False</td>\n",
       "      <td>False</td>\n",
       "      <td>False</td>\n",
       "      <td>False</td>\n",
       "      <td>...</td>\n",
       "      <td>False</td>\n",
       "      <td>False</td>\n",
       "      <td>False</td>\n",
       "      <td>False</td>\n",
       "      <td>False</td>\n",
       "      <td>True</td>\n",
       "      <td>35.0</td>\n",
       "      <td>False</td>\n",
       "      <td>2352</td>\n",
       "      <td>False</td>\n",
       "    </tr>\n",
       "    <tr>\n",
       "      <th>16792</th>\n",
       "      <td>1</td>\n",
       "      <td>Unknown</td>\n",
       "      <td>1249329763</td>\n",
       "      <td>False</td>\n",
       "      <td>True</td>\n",
       "      <td>False</td>\n",
       "      <td>False</td>\n",
       "      <td>False</td>\n",
       "      <td>False</td>\n",
       "      <td>False</td>\n",
       "      <td>...</td>\n",
       "      <td>False</td>\n",
       "      <td>False</td>\n",
       "      <td>False</td>\n",
       "      <td>False</td>\n",
       "      <td>False</td>\n",
       "      <td>False</td>\n",
       "      <td>0.0</td>\n",
       "      <td>True</td>\n",
       "      <td>274</td>\n",
       "      <td>False</td>\n",
       "    </tr>\n",
       "    <tr>\n",
       "      <th>1438</th>\n",
       "      <td>1</td>\n",
       "      <td>Unknown</td>\n",
       "      <td>422002</td>\n",
       "      <td>False</td>\n",
       "      <td>False</td>\n",
       "      <td>True</td>\n",
       "      <td>False</td>\n",
       "      <td>False</td>\n",
       "      <td>False</td>\n",
       "      <td>False</td>\n",
       "      <td>...</td>\n",
       "      <td>False</td>\n",
       "      <td>False</td>\n",
       "      <td>False</td>\n",
       "      <td>False</td>\n",
       "      <td>False</td>\n",
       "      <td>False</td>\n",
       "      <td>52.0</td>\n",
       "      <td>False</td>\n",
       "      <td>1200</td>\n",
       "      <td>False</td>\n",
       "    </tr>\n",
       "    <tr>\n",
       "      <th>6785</th>\n",
       "      <td>2</td>\n",
       "      <td>World Bank Dataset Terms of Use</td>\n",
       "      <td>237091</td>\n",
       "      <td>False</td>\n",
       "      <td>False</td>\n",
       "      <td>True</td>\n",
       "      <td>False</td>\n",
       "      <td>False</td>\n",
       "      <td>False</td>\n",
       "      <td>False</td>\n",
       "      <td>...</td>\n",
       "      <td>False</td>\n",
       "      <td>False</td>\n",
       "      <td>False</td>\n",
       "      <td>False</td>\n",
       "      <td>False</td>\n",
       "      <td>False</td>\n",
       "      <td>0.0</td>\n",
       "      <td>True</td>\n",
       "      <td>230</td>\n",
       "      <td>False</td>\n",
       "    </tr>\n",
       "  </tbody>\n",
       "</table>\n",
       "<p>5 rows × 72 columns</p>\n",
       "</div>"
      ],
      "text/plain": [
       "       version                     license_name  size(bytes)  size_MB  \\\n",
       "13035        1               CC0: Public Domain          174    False   \n",
       "2216         1               CC0: Public Domain      1548100     True   \n",
       "16792        1                          Unknown   1249329763    False   \n",
       "1438         1                          Unknown       422002    False   \n",
       "6785         2  World Bank Dataset Terms of Use       237091    False   \n",
       "\n",
       "       size_GB  size_KB kw_socrata kw_internet kw_image data kw_finance  ...  \\\n",
       "13035    False    False      False       False         False      False  ...   \n",
       "2216     False    False      False       False         False      False  ...   \n",
       "16792     True    False      False       False         False      False  ...   \n",
       "1438     False     True      False       False         False      False  ...   \n",
       "6785     False     True      False       False         False      False  ...   \n",
       "\n",
       "      creator_538 creator_Centers sbt_cont_openData sbt_cont_explore  \\\n",
       "13035       False           False             False            False   \n",
       "2216        False           False             False            False   \n",
       "16792       False           False             False            False   \n",
       "1438        False           False             False            False   \n",
       "6785        False           False             False            False   \n",
       "\n",
       "      sbt_cont_http sbt_cont_.com len_subtitl no_subtitl description_len  \\\n",
       "13035         False         False         0.0       True             157   \n",
       "2216          False          True        35.0      False            2352   \n",
       "16792         False         False         0.0       True             274   \n",
       "1438          False         False        52.0      False            1200   \n",
       "6785          False         False         0.0       True             230   \n",
       "\n",
       "      kag_deflt_des  \n",
       "13035         False  \n",
       "2216          False  \n",
       "16792         False  \n",
       "1438          False  \n",
       "6785          False  \n",
       "\n",
       "[5 rows x 72 columns]"
      ]
     },
     "execution_count": 214,
     "metadata": {},
     "output_type": "execute_result"
    }
   ],
   "source": [
    "X_valA.head()"
   ]
  },
  {
   "cell_type": "code",
   "execution_count": 215,
   "metadata": {},
   "outputs": [],
   "source": [
    "assert len(X_train) + len(X_test) == len(df['downloads'])"
   ]
  },
  {
   "cell_type": "code",
   "execution_count": 216,
   "metadata": {},
   "outputs": [],
   "source": [
    "import category_encoders as ce\n",
    "from sklearn.pipeline import make_pipeline\n",
    "from sklearn.preprocessing import StandardScaler\n",
    "from sklearn.model_selection import cross_val_score\n",
    "from sklearn.metrics import r2_score\n",
    "from sklearn.ensemble import RandomForestRegressor\n",
    "from sklearn.linear_model import LinearRegression\n",
    "from xgboost import XGBRegressor"
   ]
  },
  {
   "cell_type": "code",
   "execution_count": 217,
   "metadata": {},
   "outputs": [
    {
     "name": "stdout",
     "output_type": "stream",
     "text": [
      "XGBRegressor Mean MAE for 3 folds 518.1683310331331\n"
     ]
    }
   ],
   "source": [
    "\n",
    "pipeline = make_pipeline(\n",
    "    ce.OrdinalEncoder(),\n",
    "    StandardScaler(),\n",
    "    XGBRegressor(n_estimators=50, objective='reg:squarederror', n_jobs=9)\n",
    ")\n",
    "pipeline.fit(X_train, y_train)\n",
    "y_pred = pipeline.predict(X_train)\n",
    "\n",
    "k = 3\n",
    "scores = cross_val_score(pipeline, X_train, y_train, cv=k,\n",
    "                        scoring='neg_mean_absolute_error')\n",
    "\n",
    "print(f\"XGBRegressor Mean MAE for {k} folds\", -scores.mean())"
   ]
  },
  {
   "cell_type": "code",
   "execution_count": 218,
   "metadata": {},
   "outputs": [],
   "source": [
    "imp = pipeline['xgbregressor'].feature_importances_"
   ]
  },
  {
   "cell_type": "code",
   "execution_count": 219,
   "metadata": {},
   "outputs": [
    {
     "data": {
      "image/png": "[encoded data removed]",
      "text/plain": [
       "<Figure size 720x720 with 1 Axes>"
      ]
     },
     "metadata": {
      "needs_background": "light"
     },
     "output_type": "display_data"
    }
   ],
   "source": [
    "model = pipeline['xgbregressor']\n",
    "encoder = pipeline['ordinalencoder']\n",
    "enc_cols = encoder.transform(X_train).columns\n",
    "fi = pd.Series(model.feature_importances_, enc_cols)\n",
    "plt.figure(figsize=(10,10))\n",
    "fi.sort_values().nlargest(30).plot.barh(color='grey');"
   ]
  },
  {
   "cell_type": "code",
   "execution_count": 220,
   "metadata": {},
   "outputs": [
    {
     "data": {
      "text/plain": [
       "1671"
      ]
     },
     "execution_count": 220,
     "metadata": {},
     "output_type": "execute_result"
    }
   ],
   "source": [
    "maskZero = dfReg[target] == 0\n",
    "maskZero.sum()"
   ]
  },
  {
   "cell_type": "code",
   "execution_count": 221,
   "metadata": {},
   "outputs": [
    {
     "data": {
      "text/plain": [
       "1100"
      ]
     },
     "execution_count": 221,
     "metadata": {},
     "output_type": "execute_result"
    }
   ],
   "source": [
    "maskTop = dfReg[target] >= 1000\n",
    "maskTop.sum()"
   ]
  },
  {
   "cell_type": "code",
   "execution_count": 222,
   "metadata": {},
   "outputs": [],
   "source": [
    "topDnld = dfReg[maskTop]"
   ]
  },
  {
   "cell_type": "markdown",
   "metadata": {},
   "source": [
    "## Linear Model"
   ]
  },
  {
   "cell_type": "code",
   "execution_count": 223,
   "metadata": {},
   "outputs": [
    {
     "name": "stdout",
     "output_type": "stream",
     "text": [
      "Ridge Mean MAE for 5 folds 579.4846059255289\n"
     ]
    }
   ],
   "source": [
    "from sklearn.linear_model import Ridge\n",
    "\n",
    "linear = make_pipeline(\n",
    "    #ce.OneHotEncoder(use_cat_names=True),\n",
    "    ce.OrdinalEncoder(),\n",
    "    StandardScaler(),\n",
    "    Ridge()\n",
    ")\n",
    "linear.fit(X_train, y_train)\n",
    "y_pred_lin = linear.predict(X_train)\n",
    "\n",
    "k = 5\n",
    "scores_lin = cross_val_score(linear, X_train, y_train, cv=k,\n",
    "                        scoring='neg_mean_absolute_error')\n",
    "\n",
    "print(f\"Ridge Mean MAE for {k} folds\", -scores_lin.mean())"
   ]
  },
  {
   "cell_type": "code",
   "execution_count": 224,
   "metadata": {},
   "outputs": [
    {
     "data": {
      "text/plain": [
       "version            -16.501510\n",
       "license_name       -92.245181\n",
       "size(bytes)          8.485140\n",
       "size_MB            -91.295922\n",
       "size_GB             -8.452697\n",
       "                      ...    \n",
       "sbt_cont_.com      104.585766\n",
       "len_subtitl       -197.233248\n",
       "no_subtitl         -25.282769\n",
       "description_len   -265.115466\n",
       "kag_deflt_des       35.242132\n",
       "Length: 72, dtype: float64"
      ]
     },
     "execution_count": 224,
     "metadata": {},
     "output_type": "execute_result"
    }
   ],
   "source": [
    "coef = pd.Series(-linear['ridge'].coef_,\n",
    "                 linear['ordinalencoder'].get_feature_names())\n",
    "coef"
   ]
  },
  {
   "cell_type": "code",
   "execution_count": 225,
   "metadata": {},
   "outputs": [
    {
     "data": {
      "image/png": "[encoded data removed]",
      "text/plain": [
       "<Figure size 720x1440 with 1 Axes>"
      ]
     },
     "metadata": {
      "needs_background": "light"
     },
     "output_type": "display_data"
    }
   ],
   "source": [
    "plt.figure(figsize=(10,20))\n",
    "coef.sort_values().plot.barh(color='grey');"
   ]
  },
  {
   "cell_type": "code",
   "execution_count": 226,
   "metadata": {},
   "outputs": [
    {
     "data": {
      "image/png": "[encoded data removed]",
      "text/plain": [
       "<Figure size 720x720 with 1 Axes>"
      ]
     },
     "metadata": {
      "needs_background": "light"
     },
     "output_type": "display_data"
    }
   ],
   "source": [
    "plt.figure(figsize=(10,10))\n",
    "coef.nlargest(30).sort_values().plot.barh(color='grey');"
   ]
  },
  {
   "cell_type": "code",
   "execution_count": 227,
   "metadata": {},
   "outputs": [
    {
     "data": {
      "image/png": "[encoded data removed]",
      "text/plain": [
       "<Figure size 720x720 with 1 Axes>"
      ]
     },
     "metadata": {
      "needs_background": "light"
     },
     "output_type": "display_data"
    }
   ],
   "source": [
    "plt.figure(figsize=(10,10))\n",
    "coef.nsmallest(30).sort_values(ascending=False).plot.barh(color='grey');"
   ]
  },
  {
   "cell_type": "code",
   "execution_count": null,
   "metadata": {},
   "outputs": [],
   "source": []
  },
  {
   "cell_type": "markdown",
   "metadata": {},
   "source": [
    "## Scrutinizing Model"
   ]
  },
  {
   "cell_type": "code",
   "execution_count": 228,
   "metadata": {},
   "outputs": [
    {
     "name": "stdout",
     "output_type": "stream",
     "text": [
      "<class 'pandas.core.frame.DataFrame'>\n",
      "RangeIndex: 18518 entries, 0 to 18517\n",
      "Data columns (total 77 columns):\n",
      "version                         18518 non-null int64\n",
      "license_name                    18518 non-null object\n",
      "size(bytes)                     18518 non-null int64\n",
      "downloads                       18518 non-null int64\n",
      "discussions                     18518 non-null int64\n",
      "views                           18518 non-null int64\n",
      "likes                           18518 non-null int64\n",
      "kernels                         18518 non-null int64\n",
      "size_MB                         18518 non-null bool\n",
      "size_GB                         18518 non-null bool\n",
      "size_KB                         18518 non-null bool\n",
      "kw_socrata                      18518 non-null object\n",
      "kw_internet                     18518 non-null object\n",
      "kw_image data                   18518 non-null object\n",
      "kw_finance                      18518 non-null object\n",
      "kw_linguistics                  18518 non-null object\n",
      "kw_business                     18518 non-null object\n",
      "kw_economics                    18518 non-null object\n",
      "kw_demographics                 18518 non-null object\n",
      "kw_politics                     18518 non-null object\n",
      "kw_nlp                          18518 non-null object\n",
      "kw_classification               18518 non-null object\n",
      "kw_sports                       18518 non-null object\n",
      "kw_healthcare                   18518 non-null object\n",
      "kw_text data                    18518 non-null object\n",
      "kw_crime                        18518 non-null object\n",
      "kw_world                        18518 non-null object\n",
      "kw_languages                    18518 non-null object\n",
      "kw_deep learning                18518 non-null object\n",
      "kw_data visualization           18518 non-null object\n",
      "kw_time series                  18518 non-null object\n",
      "kw_machine learning             18518 non-null object\n",
      "kw_video games                  18518 non-null object\n",
      "kw_education                    18518 non-null object\n",
      "kw_health                       18518 non-null object\n",
      "kw_food and drink               18518 non-null object\n",
      "kw_multiclass classification    18518 non-null object\n",
      "kw_image processing             18518 non-null object\n",
      "kw_united states                18518 non-null object\n",
      "kw_europe                       18518 non-null object\n",
      "kw_india                        18518 non-null object\n",
      "kw_government                   18518 non-null object\n",
      "kw_geography                    18518 non-null object\n",
      "kw_twitter                      18518 non-null object\n",
      "kw_beginner                     18518 non-null object\n",
      "kw_pre-trained model            18518 non-null object\n",
      "kw_music                        18518 non-null object\n",
      "kw_weather                      18518 non-null object\n",
      "kw_utility                      18518 non-null object\n",
      "kw_text mining                  18518 non-null object\n",
      "kw_brazil                       18518 non-null object\n",
      "kw_cities                       18518 non-null object\n",
      "kw_history                      18518 non-null object\n",
      "kw_medicine                     18518 non-null object\n",
      "kw_countries                    18518 non-null object\n",
      "kw_public health                18518 non-null object\n",
      "kw_association football         18518 non-null object\n",
      "kw_artificial intelligence      18518 non-null object\n",
      "kw_regression analysis          18518 non-null object\n",
      "kw_environment                  18518 non-null object\n",
      "kw_law                          18518 non-null object\n",
      "no_keywords                     18518 non-null bool\n",
      "creator_State                   18518 non-null object\n",
      "creator_City                    18518 non-null object\n",
      "creator_mrkmakr                 18518 non-null bool\n",
      "creator_RachaelTatman           18518 non-null bool\n",
      "creator_NLTK                    18518 non-null bool\n",
      "creator_538                     18518 non-null bool\n",
      "creator_Centers                 18518 non-null object\n",
      "sbt_cont_openData               18518 non-null object\n",
      "sbt_cont_explore                18518 non-null object\n",
      "sbt_cont_http                   18518 non-null object\n",
      "sbt_cont_.com                   18518 non-null object\n",
      "len_subtitl                     18518 non-null float64\n",
      "no_subtitl                      18518 non-null bool\n",
      "description_len                 18518 non-null int64\n",
      "kag_deflt_des                   18518 non-null bool\n",
      "dtypes: bool(10), float64(1), int64(8), object(58)\n",
      "memory usage: 9.6+ MB\n"
     ]
    }
   ],
   "source": [
    "dfReg.info()"
   ]
  },
  {
   "cell_type": "code",
   "execution_count": 229,
   "metadata": {},
   "outputs": [],
   "source": [
    "k2dnld = pd.DataFrame({'no_keywords': dfReg['no_keywords'], 'dnlds': dfReg[target]})\n",
    "#k2dnld.tail(50)"
   ]
  },
  {
   "cell_type": "code",
   "execution_count": 230,
   "metadata": {},
   "outputs": [
    {
     "data": {
      "text/plain": [
       "<matplotlib.axes._subplots.AxesSubplot at 0x7ff7d1cbd580>"
      ]
     },
     "execution_count": 230,
     "metadata": {},
     "output_type": "execute_result"
    },
    {
     "data": {
      "image/png": "[encoded data removed]",
      "text/plain": [
       "<Figure size 432x288 with 1 Axes>"
      ]
     },
     "metadata": {
      "needs_background": "light"
     },
     "output_type": "display_data"
    }
   ],
   "source": [
    "dfReg[target].plot()"
   ]
  },
  {
   "cell_type": "code",
   "execution_count": 231,
   "metadata": {},
   "outputs": [
    {
     "data": {
      "text/plain": [
       "<matplotlib.axes._subplots.AxesSubplot at 0x7ff7c129c940>"
      ]
     },
     "execution_count": 231,
     "metadata": {},
     "output_type": "execute_result"
    },
    {
     "data": {
      "image/png": "[encoded data removed]",
      "text/plain": [
       "<Figure size 432x288 with 1 Axes>"
      ]
     },
     "metadata": {
      "needs_background": "light"
     },
     "output_type": "display_data"
    }
   ],
   "source": [
    "dfReg[target].nlargest(500).plot()"
   ]
  },
  {
   "cell_type": "markdown",
   "metadata": {},
   "source": [
    "## Permutation Importance"
   ]
  },
  {
   "cell_type": "code",
   "execution_count": 232,
   "metadata": {},
   "outputs": [],
   "source": [
    "import eli5"
   ]
  },
  {
   "cell_type": "code",
   "execution_count": 233,
   "metadata": {},
   "outputs": [],
   "source": [
    "from eli5.sklearn import PermutationImportance"
   ]
  },
  {
   "cell_type": "code",
   "execution_count": 234,
   "metadata": {},
   "outputs": [],
   "source": [
    "model = pipeline['xgbregressor']\n",
    "encoder = pipeline['ordinalencoder']\n",
    "reg_colNames = list(encoder.transform(X_valA).columns)"
   ]
  },
  {
   "cell_type": "code",
   "execution_count": 239,
   "metadata": {},
   "outputs": [],
   "source": [
    "regModel = pipeline.fit(X_train, y_train)\n",
    "X_val_encoded = pipeline['ordinalencoder'].transform(X_valA)\n",
    "X_val_stnd = pipeline['standardscaler'].transform(X_val_encoded)\n",
    "reg_colNames = list(pipeline['ordinalencoder'].get_feature_names())"
   ]
  },
  {
   "cell_type": "code",
   "execution_count": 236,
   "metadata": {},
   "outputs": [
    {
     "data": {
      "text/html": [
       "\n",
       "    <style>\n",
       "    table.eli5-weights tr:hover {\n",
       "        filter: brightness(85%);\n",
       "    }\n",
       "</style>\n",
       "\n",
       "\n",
       "\n",
       "    \n",
       "\n",
       "    \n",
       "\n",
       "    \n",
       "\n",
       "    \n",
       "\n",
       "    \n",
       "\n",
       "    \n",
       "\n",
       "\n",
       "    \n",
       "\n",
       "    \n",
       "\n",
       "    \n",
       "\n",
       "    \n",
       "\n",
       "    \n",
       "\n",
       "    \n",
       "\n",
       "\n",
       "    \n",
       "\n",
       "    \n",
       "\n",
       "    \n",
       "\n",
       "    \n",
       "\n",
       "    \n",
       "        <table class=\"eli5-weights eli5-feature-importances\" style=\"border-collapse: collapse; border: none; margin-top: 0em; table-layout: auto;\">\n",
       "    <thead>\n",
       "    <tr style=\"border: none;\">\n",
       "        <th style=\"padding: 0 1em 0 0.5em; text-align: right; border: none;\">Weight</th>\n",
       "        <th style=\"padding: 0 0.5em 0 0.5em; text-align: left; border: none;\">Feature</th>\n",
       "    </tr>\n",
       "    </thead>\n",
       "    <tbody>\n",
       "    \n",
       "        <tr style=\"background-color: hsl(120, 100.00%, 80.00%); border: none;\">\n",
       "            <td style=\"padding: 0 1em 0 0.5em; text-align: right; border: none;\">\n",
       "                0.2110\n",
       "                \n",
       "                    &plusmn; 0.0244\n",
       "                \n",
       "            </td>\n",
       "            <td style=\"padding: 0 0.5em 0 0.5em; text-align: left; border: none;\">\n",
       "                description_len\n",
       "            </td>\n",
       "        </tr>\n",
       "    \n",
       "        <tr style=\"background-color: hsl(120, 100.00%, 91.98%); border: none;\">\n",
       "            <td style=\"padding: 0 1em 0 0.5em; text-align: right; border: none;\">\n",
       "                0.0571\n",
       "                \n",
       "                    &plusmn; 0.0039\n",
       "                \n",
       "            </td>\n",
       "            <td style=\"padding: 0 0.5em 0 0.5em; text-align: left; border: none;\">\n",
       "                kw_food and drink\n",
       "            </td>\n",
       "        </tr>\n",
       "    \n",
       "        <tr style=\"background-color: hsl(120, 100.00%, 92.86%); border: none;\">\n",
       "            <td style=\"padding: 0 1em 0 0.5em; text-align: right; border: none;\">\n",
       "                0.0485\n",
       "                \n",
       "                    &plusmn; 0.0266\n",
       "                \n",
       "            </td>\n",
       "            <td style=\"padding: 0 0.5em 0 0.5em; text-align: left; border: none;\">\n",
       "                size(bytes)\n",
       "            </td>\n",
       "        </tr>\n",
       "    \n",
       "        <tr style=\"background-color: hsl(120, 100.00%, 94.36%); border: none;\">\n",
       "            <td style=\"padding: 0 1em 0 0.5em; text-align: right; border: none;\">\n",
       "                0.0346\n",
       "                \n",
       "                    &plusmn; 0.0132\n",
       "                \n",
       "            </td>\n",
       "            <td style=\"padding: 0 0.5em 0 0.5em; text-align: left; border: none;\">\n",
       "                license_name\n",
       "            </td>\n",
       "        </tr>\n",
       "    \n",
       "        <tr style=\"background-color: hsl(120, 100.00%, 95.11%); border: none;\">\n",
       "            <td style=\"padding: 0 1em 0 0.5em; text-align: right; border: none;\">\n",
       "                0.0282\n",
       "                \n",
       "                    &plusmn; 0.0281\n",
       "                \n",
       "            </td>\n",
       "            <td style=\"padding: 0 0.5em 0 0.5em; text-align: left; border: none;\">\n",
       "                kw_europe\n",
       "            </td>\n",
       "        </tr>\n",
       "    \n",
       "        <tr style=\"background-color: hsl(120, 100.00%, 95.83%); border: none;\">\n",
       "            <td style=\"padding: 0 1em 0 0.5em; text-align: right; border: none;\">\n",
       "                0.0225\n",
       "                \n",
       "                    &plusmn; 0.0026\n",
       "                \n",
       "            </td>\n",
       "            <td style=\"padding: 0 0.5em 0 0.5em; text-align: left; border: none;\">\n",
       "                len_subtitl\n",
       "            </td>\n",
       "        </tr>\n",
       "    \n",
       "        <tr style=\"background-color: hsl(120, 100.00%, 95.90%); border: none;\">\n",
       "            <td style=\"padding: 0 1em 0 0.5em; text-align: right; border: none;\">\n",
       "                0.0219\n",
       "                \n",
       "                    &plusmn; 0.0123\n",
       "                \n",
       "            </td>\n",
       "            <td style=\"padding: 0 0.5em 0 0.5em; text-align: left; border: none;\">\n",
       "                kw_text data\n",
       "            </td>\n",
       "        </tr>\n",
       "    \n",
       "        <tr style=\"background-color: hsl(120, 100.00%, 96.26%); border: none;\">\n",
       "            <td style=\"padding: 0 1em 0 0.5em; text-align: right; border: none;\">\n",
       "                0.0192\n",
       "                \n",
       "                    &plusmn; 0.0022\n",
       "                \n",
       "            </td>\n",
       "            <td style=\"padding: 0 0.5em 0 0.5em; text-align: left; border: none;\">\n",
       "                version\n",
       "            </td>\n",
       "        </tr>\n",
       "    \n",
       "        <tr style=\"background-color: hsl(120, 100.00%, 96.44%); border: none;\">\n",
       "            <td style=\"padding: 0 1em 0 0.5em; text-align: right; border: none;\">\n",
       "                0.0179\n",
       "                \n",
       "                    &plusmn; 0.0021\n",
       "                \n",
       "            </td>\n",
       "            <td style=\"padding: 0 0.5em 0 0.5em; text-align: left; border: none;\">\n",
       "                sbt_cont_http\n",
       "            </td>\n",
       "        </tr>\n",
       "    \n",
       "        <tr style=\"background-color: hsl(120, 100.00%, 96.80%); border: none;\">\n",
       "            <td style=\"padding: 0 1em 0 0.5em; text-align: right; border: none;\">\n",
       "                0.0154\n",
       "                \n",
       "                    &plusmn; 0.0000\n",
       "                \n",
       "            </td>\n",
       "            <td style=\"padding: 0 0.5em 0 0.5em; text-align: left; border: none;\">\n",
       "                kw_crime\n",
       "            </td>\n",
       "        </tr>\n",
       "    \n",
       "        <tr style=\"background-color: hsl(120, 100.00%, 97.94%); border: none;\">\n",
       "            <td style=\"padding: 0 1em 0 0.5em; text-align: right; border: none;\">\n",
       "                0.0082\n",
       "                \n",
       "                    &plusmn; 0.0009\n",
       "                \n",
       "            </td>\n",
       "            <td style=\"padding: 0 0.5em 0 0.5em; text-align: left; border: none;\">\n",
       "                kw_regression analysis\n",
       "            </td>\n",
       "        </tr>\n",
       "    \n",
       "        <tr style=\"background-color: hsl(120, 100.00%, 98.00%); border: none;\">\n",
       "            <td style=\"padding: 0 1em 0 0.5em; text-align: right; border: none;\">\n",
       "                0.0078\n",
       "                \n",
       "                    &plusmn; 0.0008\n",
       "                \n",
       "            </td>\n",
       "            <td style=\"padding: 0 0.5em 0 0.5em; text-align: left; border: none;\">\n",
       "                kw_economics\n",
       "            </td>\n",
       "        </tr>\n",
       "    \n",
       "        <tr style=\"background-color: hsl(120, 100.00%, 98.20%); border: none;\">\n",
       "            <td style=\"padding: 0 1em 0 0.5em; text-align: right; border: none;\">\n",
       "                0.0068\n",
       "                \n",
       "                    &plusmn; 0.0015\n",
       "                \n",
       "            </td>\n",
       "            <td style=\"padding: 0 0.5em 0 0.5em; text-align: left; border: none;\">\n",
       "                kw_association football\n",
       "            </td>\n",
       "        </tr>\n",
       "    \n",
       "        <tr style=\"background-color: hsl(120, 100.00%, 98.64%); border: none;\">\n",
       "            <td style=\"padding: 0 1em 0 0.5em; text-align: right; border: none;\">\n",
       "                0.0045\n",
       "                \n",
       "                    &plusmn; 0.0020\n",
       "                \n",
       "            </td>\n",
       "            <td style=\"padding: 0 0.5em 0 0.5em; text-align: left; border: none;\">\n",
       "                kw_socrata\n",
       "            </td>\n",
       "        </tr>\n",
       "    \n",
       "        <tr style=\"background-color: hsl(120, 100.00%, 98.84%); border: none;\">\n",
       "            <td style=\"padding: 0 1em 0 0.5em; text-align: right; border: none;\">\n",
       "                0.0036\n",
       "                \n",
       "                    &plusmn; 0.0002\n",
       "                \n",
       "            </td>\n",
       "            <td style=\"padding: 0 0.5em 0 0.5em; text-align: left; border: none;\">\n",
       "                kw_health\n",
       "            </td>\n",
       "        </tr>\n",
       "    \n",
       "        <tr style=\"background-color: hsl(120, 100.00%, 98.98%); border: none;\">\n",
       "            <td style=\"padding: 0 1em 0 0.5em; text-align: right; border: none;\">\n",
       "                0.0030\n",
       "                \n",
       "                    &plusmn; 0.0005\n",
       "                \n",
       "            </td>\n",
       "            <td style=\"padding: 0 0.5em 0 0.5em; text-align: left; border: none;\">\n",
       "                kw_healthcare\n",
       "            </td>\n",
       "        </tr>\n",
       "    \n",
       "        <tr style=\"background-color: hsl(120, 100.00%, 99.01%); border: none;\">\n",
       "            <td style=\"padding: 0 1em 0 0.5em; text-align: right; border: none;\">\n",
       "                0.0029\n",
       "                \n",
       "                    &plusmn; 0.0002\n",
       "                \n",
       "            </td>\n",
       "            <td style=\"padding: 0 0.5em 0 0.5em; text-align: left; border: none;\">\n",
       "                kw_history\n",
       "            </td>\n",
       "        </tr>\n",
       "    \n",
       "        <tr style=\"background-color: hsl(120, 100.00%, 99.14%); border: none;\">\n",
       "            <td style=\"padding: 0 1em 0 0.5em; text-align: right; border: none;\">\n",
       "                0.0023\n",
       "                \n",
       "                    &plusmn; 0.0022\n",
       "                \n",
       "            </td>\n",
       "            <td style=\"padding: 0 0.5em 0 0.5em; text-align: left; border: none;\">\n",
       "                kw_india\n",
       "            </td>\n",
       "        </tr>\n",
       "    \n",
       "        <tr style=\"background-color: hsl(120, 100.00%, 99.22%); border: none;\">\n",
       "            <td style=\"padding: 0 1em 0 0.5em; text-align: right; border: none;\">\n",
       "                0.0021\n",
       "                \n",
       "                    &plusmn; 0.0005\n",
       "                \n",
       "            </td>\n",
       "            <td style=\"padding: 0 0.5em 0 0.5em; text-align: left; border: none;\">\n",
       "                kw_finance\n",
       "            </td>\n",
       "        </tr>\n",
       "    \n",
       "        <tr style=\"background-color: hsl(120, 100.00%, 99.42%); border: none;\">\n",
       "            <td style=\"padding: 0 1em 0 0.5em; text-align: right; border: none;\">\n",
       "                0.0013\n",
       "                \n",
       "                    &plusmn; 0.0014\n",
       "                \n",
       "            </td>\n",
       "            <td style=\"padding: 0 0.5em 0 0.5em; text-align: left; border: none;\">\n",
       "                kw_linguistics\n",
       "            </td>\n",
       "        </tr>\n",
       "    \n",
       "    \n",
       "        \n",
       "            <tr style=\"background-color: hsl(120, 100.00%, 99.42%); border: none;\">\n",
       "                <td colspan=\"2\" style=\"padding: 0 0.5em 0 0.5em; text-align: center; border: none; white-space: nowrap;\">\n",
       "                    <i>&hellip; 52 more &hellip;</i>\n",
       "                </td>\n",
       "            </tr>\n",
       "        \n",
       "    \n",
       "    </tbody>\n",
       "</table>\n",
       "    \n",
       "\n",
       "    \n",
       "\n",
       "\n",
       "    \n",
       "\n",
       "    \n",
       "\n",
       "    \n",
       "\n",
       "    \n",
       "\n",
       "    \n",
       "\n",
       "    \n",
       "\n",
       "\n",
       "\n"
      ],
      "text/plain": [
       "<IPython.core.display.HTML object>"
      ]
     },
     "execution_count": 236,
     "metadata": {},
     "output_type": "execute_result"
    }
   ],
   "source": [
    "perm = PermutationImportance(model,\n",
    "                            random_state=42).fit(X_val_stnd, y_valA)\n",
    "\n",
    "eli5.show_weights(perm, feature_names=reg_colNames)"
   ]
  },
  {
   "cell_type": "markdown",
   "metadata": {},
   "source": [
    "## Partial Dependence Plot"
   ]
  },
  {
   "cell_type": "code",
   "execution_count": 283,
   "metadata": {},
   "outputs": [
    {
     "name": "stdout",
     "output_type": "stream",
     "text": [
      "XGBRegressor Mean MAE for 3 folds 544.227102040193\n"
     ]
    }
   ],
   "source": [
    "from sklearn.ensemble import RandomForestRegressor\n",
    "\n",
    "randFor = make_pipeline(\n",
    "    ce.OrdinalEncoder(),\n",
    "    StandardScaler(),\n",
    "    RandomForestRegressor(n_estimators=50, n_jobs=9)\n",
    ")\n",
    "randFor.fit(X_train, y_train)\n",
    "y_pred_rF = pipeline.predict(X_train)\n",
    "\n",
    "k = 3\n",
    "scores_rF = cross_val_score(randFor, X_train, y_train, cv=k,\n",
    "                        scoring='neg_mean_absolute_error')\n",
    "\n",
    "print(f\"XGBRegressor Mean MAE for {k} folds\", -scores_rF.mean())\n"
   ]
  },
  {
   "cell_type": "code",
   "execution_count": null,
   "metadata": {},
   "outputs": [],
   "source": [
    "regModel = pipeline.fit(X_train, y_train)\n",
    "X_val_encoded = pipeline['ordinalencoder'].transform(X_valA)\n",
    "X_val_stnd = pipeline['standardscaler'].transform(X_val_encoded)\n",
    "reg_colNames = list(pipeline['ordinalencoder'].get_feature_names())"
   ]
  },
  {
   "cell_type": "code",
   "execution_count": 286,
   "metadata": {},
   "outputs": [],
   "source": [
    "model_rF = randFor['randomforestregressor']\n",
    "X_val_encoded_rF = randFor['ordinalencoder'].transform(X_valA)\n",
    "X_val_stnd_rF = randFor['standardscaler'].transform(X_val_encoded)\n",
    "reg_colNames_rF = list(encoder_rF.transform(X_valA).columns)\n",
    "X_val_stnd__rF_df = pd.DataFrame(X_val_stnd_rF, columns=reg_colNames_rF)"
   ]
  },
  {
   "cell_type": "code",
   "execution_count": 248,
   "metadata": {},
   "outputs": [],
   "source": [
    "from pdpbox import pdp, get_dataset, info_plots"
   ]
  },
  {
   "cell_type": "code",
   "execution_count": 279,
   "metadata": {},
   "outputs": [],
   "source": [
    "#X_val_stnd_df = pd.DataFrame(X_val_stnd, columns=reg_colNames)\n",
    "#X_val_stnd_df = pd.DataFrame(X_val_stnd)\n",
    "#model_f = model_f"
   ]
  },
  {
   "cell_type": "code",
   "execution_count": 280,
   "metadata": {},
   "outputs": [],
   "source": [
    "#reg_colNames\n",
    "#model_f"
   ]
  },
  {
   "cell_type": "code",
   "execution_count": 289,
   "metadata": {},
   "outputs": [
    {
     "data": {
      "image/png": "[encoded data removed]",
      "text/plain": [
       "<Figure size 1080x684 with 2 Axes>"
      ]
     },
     "metadata": {
      "needs_background": "light"
     },
     "output_type": "display_data"
    }
   ],
   "source": [
    "pdp_desLen = pdp.pdp_isolate(model=model_rF, \n",
    "                             dataset=X_val_stnd__rF_df,\n",
    "                             model_features=reg_colNames_rF,\n",
    "                             feature='description_len'\n",
    "                            )\n",
    "\n",
    "pdp.pdp_plot(pdp_desLen, 'description_len')\n",
    "plt.show()"
   ]
  },
  {
   "cell_type": "code",
   "execution_count": 290,
   "metadata": {},
   "outputs": [
    {
     "data": {
      "image/png": "[encoded data removed]",
      "text/plain": [
       "<Figure size 1080x684 with 2 Axes>"
      ]
     },
     "metadata": {
      "needs_background": "light"
     },
     "output_type": "display_data"
    }
   ],
   "source": [
    "pdp_desLen = pdp.pdp_isolate(model=model_rF, \n",
    "                             dataset=X_val_stnd__rF_df,\n",
    "                             model_features=reg_colNames_rF,\n",
    "                             feature='kw_food and drink'\n",
    "                            )\n",
    "\n",
    "pdp.pdp_plot(pdp_desLen, 'kw_food and drink')\n",
    "plt.show()"
   ]
  },
  {
   "cell_type": "code",
   "execution_count": 291,
   "metadata": {},
   "outputs": [
    {
     "data": {
      "image/png": "[encoded data removed]",
      "text/plain": [
       "<Figure size 1080x684 with 2 Axes>"
      ]
     },
     "metadata": {
      "needs_background": "light"
     },
     "output_type": "display_data"
    }
   ],
   "source": [
    "pdp_desLen = pdp.pdp_isolate(model=model_rF, \n",
    "                             dataset=X_val_stnd__rF_df,\n",
    "                             model_features=reg_colNames_rF,\n",
    "                             feature='size(bytes)'\n",
    "                            )\n",
    "\n",
    "pdp.pdp_plot(pdp_desLen, 'size(bytes)')\n",
    "plt.show()"
   ]
  },
  {
   "cell_type": "code",
   "execution_count": 292,
   "metadata": {},
   "outputs": [
    {
     "data": {
      "image/png": "[encoded data removed]",
      "text/plain": [
       "<Figure size 1080x684 with 2 Axes>"
      ]
     },
     "metadata": {
      "needs_background": "light"
     },
     "output_type": "display_data"
    }
   ],
   "source": [
    "pdp_desLen = pdp.pdp_isolate(model=model_rF, \n",
    "                             dataset=X_val_stnd__rF_df,\n",
    "                             model_features=reg_colNames_rF,\n",
    "                             feature='license_name'\n",
    "                            )\n",
    "\n",
    "pdp.pdp_plot(pdp_desLen, 'license_name')\n",
    "plt.show()"
   ]
  },
  {
   "cell_type": "code",
   "execution_count": 304,
   "metadata": {},
   "outputs": [
    {
     "data": {
      "text/plain": [
       "-0.735050    7202\n",
       " 0.022116    4178\n",
       " 0.779281    1135\n",
       " 1.157863     716\n",
       " 1.536446     432\n",
       " 2.672194     391\n",
       " 0.400698     269\n",
       " 2.293611     236\n",
       " 1.915029     224\n",
       "-0.356467      83\n",
       " 3.050777      75\n",
       " 4.186525      22\n",
       " 6.458020      21\n",
       " 4.565107      20\n",
       " 7.972351       4\n",
       " 5.700855       3\n",
       " 6.836603       3\n",
       " 8.350933       3\n",
       " 3.429359       2\n",
       " 4.943690       2\n",
       " 7.593768       2\n",
       " 7.215186       2\n",
       " 3.807942       2\n",
       " 6.079438       2\n",
       " 5.322272       2\n",
       " 8.729516       1\n",
       "Name: license_name, dtype: int64"
      ]
     },
     "execution_count": 304,
     "metadata": {},
     "output_type": "execute_result"
    }
   ],
   "source": [
    "X_val_stnd__rF_df['license_name'].value_counts().nlargest(26)"
   ]
  },
  {
   "cell_type": "code",
   "execution_count": 306,
   "metadata": {},
   "outputs": [
    {
     "data": {
      "text/plain": [
       "Unknown                                                                        8827\n",
       "CC0: Public Domain                                                             5200\n",
       "Other (specified in description)                                               1391\n",
       "Data files © Original Authors                                                   880\n",
       "Database: Open Database, Contents: Database Contents                            536\n",
       "CC BY-NC-SA 4.0                                                                 467\n",
       "CC BY-SA 4.0                                                                    334\n",
       "GPL 2                                                                           290\n",
       "Database: Open Database, Contents: © Original Authors                           289\n",
       "CC BY-SA 3.0                                                                    104\n",
       "World Bank Dataset Terms of Use                                                  91\n",
       "Reddit API Terms                                                                 27\n",
       "Attribution 4.0 International (CC BY 4.0)                                        24\n",
       "U.S. Government Works                                                            24\n",
       "GNU Lesser General Public License 3.0                                             5\n",
       "Community Data License Agreement - Sharing - Version 1.0                          5\n",
       "Attribution-NonCommercial 4.0 International (CC BY-NC 4.0)                        3\n",
       "GNU Affero General Public License 3.0                                             3\n",
       "Attribution 3.0 Unported (CC BY 3.0)                                              3\n",
       "ODC Public Domain Dedication and Licence (PDDL)                                   3\n",
       "Attribution-NonCommercial-NoDerivatives 4.0 International (CC BY-NC-ND 4.0)       3\n",
       "Community Data License Agreement - Permissive - Version 1.0                       2\n",
       "Attribution-NonCommercial-ShareAlike 3.0 IGO (CC BY-NC-SA 3.0 IGO)                2\n",
       "ODC Attribution License (ODC-By)                                                  2\n",
       "EU ODP Legal Notice                                                               2\n",
       "GNU Free Documentation License 1.3                                                1\n",
       "Name: license_name, dtype: int64"
      ]
     },
     "execution_count": 306,
     "metadata": {},
     "output_type": "execute_result"
    }
   ],
   "source": [
    "dfDnld['license_name'].value_counts().nlargest(26)"
   ]
  },
  {
   "cell_type": "code",
   "execution_count": null,
   "metadata": {},
   "outputs": [],
   "source": []
  },
  {
   "cell_type": "code",
   "execution_count": null,
   "metadata": {},
   "outputs": [],
   "source": []
  },
  {
   "cell_type": "code",
   "execution_count": null,
   "metadata": {},
   "outputs": [],
   "source": []
  },
  {
   "cell_type": "code",
   "execution_count": null,
   "metadata": {},
   "outputs": [],
   "source": []
  },
  {
   "cell_type": "code",
   "execution_count": null,
   "metadata": {},
   "outputs": [],
   "source": []
  },
  {
   "cell_type": "code",
   "execution_count": null,
   "metadata": {},
   "outputs": [],
   "source": []
  },
  {
   "cell_type": "code",
   "execution_count": null,
   "metadata": {},
   "outputs": [],
   "source": []
  },
  {
   "cell_type": "code",
   "execution_count": null,
   "metadata": {},
   "outputs": [],
   "source": []
  },
  {
   "cell_type": "code",
   "execution_count": null,
   "metadata": {},
   "outputs": [],
   "source": []
  },
  {
   "cell_type": "code",
   "execution_count": null,
   "metadata": {},
   "outputs": [],
   "source": []
  },
  {
   "cell_type": "code",
   "execution_count": null,
   "metadata": {},
   "outputs": [],
   "source": []
  }
 ],
 "metadata": {
  "kernelspec": {
   "display_name": "Python 3",
   "language": "python",
   "name": "python3"
  },
  "language_info": {
   "codemirror_mode": {
    "name": "ipython",
    "version": 3
   },
   "file_extension": ".py",
   "mimetype": "text/x-python",
   "name": "python",
   "nbconvert_exporter": "python",
   "pygments_lexer": "ipython3",
   "version": "3.8.1"
  }
 },
 "nbformat": 4,
 "nbformat_minor": 4
}
