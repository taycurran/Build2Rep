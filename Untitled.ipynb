{
 "cells": [
  {
   "cell_type": "code",
   "execution_count": 1,
   "metadata": {},
   "outputs": [],
   "source": [
    "import pandas as pd"
   ]
  },
  {
   "cell_type": "code",
   "execution_count": 2,
   "metadata": {},
   "outputs": [],
   "source": [
    "df = pd.read_csv('zillow_data.csv')"
   ]
  },
  {
   "cell_type": "code",
   "execution_count": 6,
   "metadata": {},
   "outputs": [
    {
     "name": "stdout",
     "output_type": "stream",
     "text": [
      "(932, 113)\n"
     ]
    },
    {
     "data": {
      "text/html": [
       "<div>\n",
       "<style scoped>\n",
       "    .dataframe tbody tr th:only-of-type {\n",
       "        vertical-align: middle;\n",
       "    }\n",
       "\n",
       "    .dataframe tbody tr th {\n",
       "        vertical-align: top;\n",
       "    }\n",
       "\n",
       "    .dataframe thead th {\n",
       "        text-align: right;\n",
       "    }\n",
       "</style>\n",
       "<table border=\"1\" class=\"dataframe\">\n",
       "  <thead>\n",
       "    <tr style=\"text-align: right;\">\n",
       "      <th></th>\n",
       "      <th>RegionID</th>\n",
       "      <th>RegionName</th>\n",
       "      <th>SizeRank</th>\n",
       "      <th>ZHVI_All_96</th>\n",
       "      <th>ZHVI_All_97</th>\n",
       "      <th>ZHVI_All_98</th>\n",
       "      <th>ZHVI_All_99</th>\n",
       "      <th>ZHVI_All_00</th>\n",
       "      <th>ZHVI_All_01</th>\n",
       "      <th>ZHVI_All_02</th>\n",
       "      <th>...</th>\n",
       "      <th>SaleCut_18</th>\n",
       "      <th>SaleCut_19</th>\n",
       "      <th>SalePrice_13</th>\n",
       "      <th>SalePrice_14</th>\n",
       "      <th>SalePrice_15</th>\n",
       "      <th>SalePrice_16</th>\n",
       "      <th>SalePrice_17</th>\n",
       "      <th>SalePrice_18</th>\n",
       "      <th>SalePrice_19</th>\n",
       "      <th>State</th>\n",
       "    </tr>\n",
       "  </thead>\n",
       "  <tbody>\n",
       "    <tr>\n",
       "      <th>0</th>\n",
       "      <td>102001</td>\n",
       "      <td>United States</td>\n",
       "      <td>0.0</td>\n",
       "      <td>107038.777778</td>\n",
       "      <td>109827.833333</td>\n",
       "      <td>114622.833333</td>\n",
       "      <td>120723.750000</td>\n",
       "      <td>128912.250000</td>\n",
       "      <td>138267.416667</td>\n",
       "      <td>147711.166667</td>\n",
       "      <td>...</td>\n",
       "      <td>1.591110e+06</td>\n",
       "      <td>1.549866e+06</td>\n",
       "      <td>1.957117e+06</td>\n",
       "      <td>1.972348e+06</td>\n",
       "      <td>1.895745e+06</td>\n",
       "      <td>1.797109e+06</td>\n",
       "      <td>1.641074e+06</td>\n",
       "      <td>1.591110e+06</td>\n",
       "      <td>1.549866e+06</td>\n",
       "      <td>NaN</td>\n",
       "    </tr>\n",
       "    <tr>\n",
       "      <th>1</th>\n",
       "      <td>394913</td>\n",
       "      <td>New York, NY</td>\n",
       "      <td>1.0</td>\n",
       "      <td>185804.555556</td>\n",
       "      <td>189814.666667</td>\n",
       "      <td>197705.583333</td>\n",
       "      <td>212424.083333</td>\n",
       "      <td>237131.916667</td>\n",
       "      <td>266243.916667</td>\n",
       "      <td>299799.916667</td>\n",
       "      <td>...</td>\n",
       "      <td>8.576108e+04</td>\n",
       "      <td>8.691933e+04</td>\n",
       "      <td>1.116268e+05</td>\n",
       "      <td>1.079741e+05</td>\n",
       "      <td>1.083282e+05</td>\n",
       "      <td>1.011301e+05</td>\n",
       "      <td>8.680992e+04</td>\n",
       "      <td>8.576108e+04</td>\n",
       "      <td>8.691933e+04</td>\n",
       "      <td>NY</td>\n",
       "    </tr>\n",
       "  </tbody>\n",
       "</table>\n",
       "<p>2 rows × 113 columns</p>\n",
       "</div>"
      ],
      "text/plain": [
       "   RegionID     RegionName  SizeRank    ZHVI_All_96    ZHVI_All_97  \\\n",
       "0    102001  United States       0.0  107038.777778  109827.833333   \n",
       "1    394913   New York, NY       1.0  185804.555556  189814.666667   \n",
       "\n",
       "     ZHVI_All_98    ZHVI_All_99    ZHVI_All_00    ZHVI_All_01    ZHVI_All_02  \\\n",
       "0  114622.833333  120723.750000  128912.250000  138267.416667  147711.166667   \n",
       "1  197705.583333  212424.083333  237131.916667  266243.916667  299799.916667   \n",
       "\n",
       "   ...    SaleCut_18    SaleCut_19  SalePrice_13  SalePrice_14  SalePrice_15  \\\n",
       "0  ...  1.591110e+06  1.549866e+06  1.957117e+06  1.972348e+06  1.895745e+06   \n",
       "1  ...  8.576108e+04  8.691933e+04  1.116268e+05  1.079741e+05  1.083282e+05   \n",
       "\n",
       "   SalePrice_16  SalePrice_17  SalePrice_18  SalePrice_19  State  \n",
       "0  1.797109e+06  1.641074e+06  1.591110e+06  1.549866e+06    NaN  \n",
       "1  1.011301e+05  8.680992e+04  8.576108e+04  8.691933e+04     NY  \n",
       "\n",
       "[2 rows x 113 columns]"
      ]
     },
     "execution_count": 6,
     "metadata": {},
     "output_type": "execute_result"
    }
   ],
   "source": [
    "print(df.shape)\n",
    "df.head(2)"
   ]
  },
  {
   "cell_type": "code",
   "execution_count": 4,
   "metadata": {},
   "outputs": [
    {
     "data": {
      "text/plain": [
       "Index(['RegionID', 'RegionName', 'SizeRank', 'ZHVI_All_96', 'ZHVI_All_97',\n",
       "       'ZHVI_All_98', 'ZHVI_All_99', 'ZHVI_All_00', 'ZHVI_All_01',\n",
       "       'ZHVI_All_02',\n",
       "       ...\n",
       "       'SaleCut_18', 'SaleCut_19', 'SalePrice_13', 'SalePrice_14',\n",
       "       'SalePrice_15', 'SalePrice_16', 'SalePrice_17', 'SalePrice_18',\n",
       "       'SalePrice_19', 'State'],\n",
       "      dtype='object', length=113)"
      ]
     },
     "execution_count": 4,
     "metadata": {},
     "output_type": "execute_result"
    }
   ],
   "source": [
    "df.columns"
   ]
  },
  {
   "cell_type": "code",
   "execution_count": null,
   "metadata": {},
   "outputs": [],
   "source": []
  }
 ],
 "metadata": {
  "kernelspec": {
   "display_name": "Python 3",
   "language": "python",
   "name": "python3"
  },
  "language_info": {
   "codemirror_mode": {
    "name": "ipython",
    "version": 3
   },
   "file_extension": ".py",
   "mimetype": "text/x-python",
   "name": "python",
   "nbconvert_exporter": "python",
   "pygments_lexer": "ipython3",
   "version": "3.7.4"
  }
 },
 "nbformat": 4,
 "nbformat_minor": 4
}
