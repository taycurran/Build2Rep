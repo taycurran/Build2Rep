{
 "cells": [
  {
   "cell_type": "code",
   "execution_count": 6,
   "metadata": {},
   "outputs": [],
   "source": [
    "# import lxml - Not wroking great..\n",
    "from urllib.request import urlopen\n",
    "from bs4 import BeautifulSoup"
   ]
  },
  {
   "cell_type": "code",
   "execution_count": 57,
   "metadata": {},
   "outputs": [],
   "source": [
    "html = urlopen('http://heatexchanger-fouling.com/proceedings19.htm')\n",
    "bs = BeautifulSoup(html, 'html.parser')"
   ]
  },
  {
   "cell_type": "code",
   "execution_count": 63,
   "metadata": {},
   "outputs": [
    {
     "data": {
      "text/plain": [
       "[]"
      ]
     },
     "execution_count": 63,
     "metadata": {},
     "output_type": "execute_result"
    }
   ],
   "source": [
    "links = bs.find_all('ol', href=True) # With lots of other tags etc.\n",
    "links"
   ]
  },
  {
   "cell_type": "code",
   "execution_count": 75,
   "metadata": {},
   "outputs": [
    {
     "data": {
      "text/plain": [
       "45"
      ]
     },
     "execution_count": 75,
     "metadata": {},
     "output_type": "execute_result"
    }
   ],
   "source": [
    "links_all = bs.find_all('a', href=True)\n",
    "links2019 = links_all[12:57]"
   ]
  },
  {
   "cell_type": "code",
   "execution_count": 61,
   "metadata": {},
   "outputs": [],
   "source": [
    "for link in bs.find_all('ol'):\n",
    "    if 'href' in link.attrs:\n",
    "        print(link.attrs['href'])"
   ]
  },
  {
   "cell_type": "code",
   "execution_count": null,
   "metadata": {},
   "outputs": [],
   "source": []
  },
  {
   "cell_type": "code",
   "execution_count": 52,
   "metadata": {},
   "outputs": [
    {
     "data": {
      "text/plain": [
       "[<a href=\"papers/papers2019/01_Jibbs et al.pdf\"><b>HELIXCHANGER® Heat Exchanger - Field Experience and Ongoing Development</b><br/>R.J. Jibb, M. Brignone, S. Taha, G. Podrebarac, J. Larance, P. Junge </a>]"
      ]
     },
     "execution_count": 52,
     "metadata": {},
     "output_type": "execute_result"
    }
   ],
   "source": [
    "bs.find_all('ol')[0].find_all('li')[0].find_all('a')"
   ]
  },
  {
   "cell_type": "code",
   "execution_count": 56,
   "metadata": {},
   "outputs": [
    {
     "name": "stdout",
     "output_type": "stream",
     "text": [
      "None\n"
     ]
    }
   ],
   "source": [
    "print(bs.find_all('ol')[0].get('href'))"
   ]
  },
  {
   "cell_type": "code",
   "execution_count": null,
   "metadata": {},
   "outputs": [],
   "source": [
    "#content > ul:nth-child(24) > li:nth-child(4) > ol > li:nth-child(1) > a\n"
   ]
  },
  {
   "cell_type": "code",
   "execution_count": null,
   "metadata": {},
   "outputs": [],
   "source": [
    "#content > ul:nth-child(24) > li:nth-child(4) > ol > li:nth-child(1) > a > b\n",
    "#content > ul:nth-child(24) > li:nth-child(4) > ol > li:nth-child(2) > a > b\n",
    "#content > ul:nth-child(24) > li:nth-child(4) > ol > li:nth-child(3) > a > b\n",
    "\n",
    "#content > ul:nth-child(24) > li:nth-child(5) > ol > li > a > b\n",
    "\n",
    "#content > ul:nth-child(24) > li:nth-child(6) > ol > li:nth-child(1) > a > b\n",
    "#content > ul:nth-child(24) > li:nth-child(6) > ol > li:nth-child(2) > a > b\n",
    "\n",
    "#content > ul:nth-child(24) > li:nth-child(7) > ol > li > a\n",
    "\n",
    "#content > ul:nth-child(24) > li:nth-child(8) > ol > li:nth-child(1) > a > b\n",
    "#content > ul:nth-child(24) > li:nth-child(8) > ol > li:nth-child(2) > a > b\n",
    "#content > ul:nth-child(24) > li:nth-child(8) > ol > li:nth-child(3) > a > b\n",
    "\n",
    "#content > ul:nth-child(24) > li:nth-child(15) > ol > li:nth-child(3) > a > b\n",
    "\n",
    "# I can identify a pattern...\n",
    "\n",
    "# children = [4, 6, 8-15]\n",
    "# no_children = [5, 7]"
   ]
  }
 ],
 "metadata": {
  "kernelspec": {
   "display_name": "Python 3",
   "language": "python",
   "name": "python3"
  },
  "language_info": {
   "codemirror_mode": {
    "name": "ipython",
    "version": 3
   },
   "file_extension": ".py",
   "mimetype": "text/x-python",
   "name": "python",
   "nbconvert_exporter": "python",
   "pygments_lexer": "ipython3",
   "version": "3.8.1"
  }
 },
 "nbformat": 4,
 "nbformat_minor": 4
}
