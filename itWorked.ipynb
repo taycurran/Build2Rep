{
 "cells": [
  {
   "cell_type": "code",
   "execution_count": 1,
   "metadata": {},
   "outputs": [
    {
     "name": "stdout",
     "output_type": "stream",
     "text": [
      "https://www-s.corrosionanalysisnetwork.org/publications-standards?p_p_id=webcontentresults_WAR_webcontentsearchportlet_INSTANCE_4AYZesofnBkw&p_p_lifecycle=0&p_p_state=normal&p_p_mode=view&_webcontentresults_WAR_webcontentsearchportlet_INSTANCE_4AYZesofnBkw_sortBy=prefs&_webcontentresults_WAR_webcontentsearchportlet_INSTANCE_4AYZesofnBkw_currentPage=4\n"
     ]
    }
   ],
   "source": [
    "page1_link_selectors = []\n",
    "page_urls = ['https://www-s.corrosionanalysisnetwork.org/publications-standards?p_p_id=webcontentfilters_WAR_webcontentsearchportlet&p_p_lifecycle=1&p_p_state=normal&p_p_mode=view']\n",
    "\n",
    "for link in range(1, 11):\n",
    "    page1_link_selectors.append(f\"#portlet_webcontentresults_WAR_webcontentsearchportlet_INSTANCE_4AYZesofnBkw > div > div > div > div > div:nth-child(3) > div:nth-child({link}) > div.clearfix.journal-content-article > div > h3 > a\")\n",
    "\n",
    "for page in range(2, 10):\n",
    "    urlPage = (f\"https://www-s.corrosionanalysisnetwork.org/publications-standards?p_p_id=webcontentresults_WAR_webcontentsearchportlet_INSTANCE_4AYZesofnBkw&p_p_lifecycle=0&p_p_state=normal&p_p_mode=view&_webcontentresults_WAR_webcontentsearchportlet_INSTANCE_4AYZesofnBkw_sortBy=prefs&_webcontentresults_WAR_webcontentsearchportlet_INSTANCE_4AYZesofnBkw_currentPage={page}\")\n",
    "    page_urls.append(urlPage)\n",
    "\n",
    "print(page_urls[3])"
   ]
  },
  {
   "cell_type": "code",
   "execution_count": 3,
   "metadata": {},
   "outputs": [
    {
     "name": "stdout",
     "output_type": "stream",
     "text": [
      "DONE!\n",
      "450\n"
     ]
    }
   ],
   "source": [
    "import requests, os, bs4\n",
    "import csv\n",
    "\n",
    "# Empty Page for Abstracts\n",
    "abstracts = []\n",
    "\n",
    "# PARENT CYCLE STARTS?\n",
    "\n",
    "# Pages of Search Results for CAN Coatings and Linings\n",
    "# There are ~1070 pages of results.\n",
    "#urlPage1 = 'https://www-s.corrosionanalysisnetwork.org/publications-standards?p_p_id=webcontentresults_WAR_webcontentsearchportlet_INSTANCE_4AYZesofnBkw&p_p_lifecycle=0&p_p_state=normal&p_p_mode=view&_webcontentresults_WAR_webcontentsearchportlet_INSTANCE_4AYZesofnBkw_sortBy=prefs&_webcontentresults_WAR_webcontentsearchportlet_INSTANCE_4AYZesofnBkw_currentPage=1'\n",
    "\n",
    "paragraph_selector = '#portlet_com_pfiks_asm_journal_portlet_JournalContentPortlet > div > div > div > div.clearfix.journal-content-article > div > div.col-md-9.pad-right-md > div > div.section.description > p'\n",
    "urlLinks = []\n",
    "\n",
    "for urlPage in page_urls:\n",
    "    dnldPage = requests.get(urlPage)\n",
    "    dnldPage.raise_for_status()\n",
    "\n",
    "    soupPage = bs4.BeautifulSoup(dnldPage.text, 'html.parser')\n",
    "    \n",
    "    for link in page1_link_selectors:\n",
    "        elemLink = soupPage.select(link)\n",
    "        if elemLink == []:\n",
    "            print(f\"Could Not Find Link {link}\")\n",
    "        else:\n",
    "            urlLinks.append(elemLink[0].get('href'))\n",
    "\n",
    "    for url in urlLinks:\n",
    "        dnldLink = requests.get(url)\n",
    "        dnldLink.raise_for_status()\n",
    "\n",
    "        soupLink = bs4.BeautifulSoup(dnldLink.text, 'html.parser')\n",
    "        abstrLink = soupLink.select(paragraph_selector)\n",
    "\n",
    "        abstracts.append(abstrLink)\n",
    "\n",
    "print(\"DONE!\")\n",
    "print(len(abstracts))\n",
    "\n",
    "# Write CSV\n",
    "\n",
    "# name of csv file \n",
    "filename = \"abstracts0.csv\"\n",
    "\n",
    "# writing to csv file \n",
    "with open(filename, 'w') as csvfile: \n",
    "    # creating a csv writer object \n",
    "    csvwriter = csv.writer(csvfile) \n",
    "            \n",
    "    # writing the data rows \n",
    "    csvwriter.writerows(abstracts)"
   ]
  },
  {
   "cell_type": "code",
   "execution_count": null,
   "metadata": {},
   "outputs": [],
   "source": []
  }
 ],
 "metadata": {
  "kernelspec": {
   "display_name": "Python 3",
   "language": "python",
   "name": "python3"
  },
  "language_info": {
   "codemirror_mode": {
    "name": "ipython",
    "version": 3
   },
   "file_extension": ".py",
   "mimetype": "text/x-python",
   "name": "python",
   "nbconvert_exporter": "python",
   "pygments_lexer": "ipython3",
   "version": "3.8.1"
  }
 },
 "nbformat": 4,
 "nbformat_minor": 4
}
