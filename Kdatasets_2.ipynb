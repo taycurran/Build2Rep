{
 "cells": [
  {
   "cell_type": "code",
   "execution_count": 1,
   "metadata": {},
   "outputs": [],
   "source": [
    "import pandas as pd\n",
    "import numpy as np\n",
    "import matplotlib.pyplot as plt"
   ]
  },
  {
   "cell_type": "code",
   "execution_count": 2,
   "metadata": {},
   "outputs": [],
   "source": [
    "df = pd.read_csv('complete-collection-of-kaggle-datasets/Kaggle Datasets.csv')\n",
    "df['last_updated'] = pd.to_datetime(df['last_updated'], \n",
    "                                    infer_datetime_format=True)"
   ]
  },
  {
   "cell_type": "code",
   "execution_count": 3,
   "metadata": {},
   "outputs": [
    {
     "name": "stdout",
     "output_type": "stream",
     "text": [
      "(18518, 16)\n"
     ]
    },
    {
     "data": {
      "text/html": [
       "<div>\n",
       "<style scoped>\n",
       "    .dataframe tbody tr th:only-of-type {\n",
       "        vertical-align: middle;\n",
       "    }\n",
       "\n",
       "    .dataframe tbody tr th {\n",
       "        vertical-align: top;\n",
       "    }\n",
       "\n",
       "    .dataframe thead th {\n",
       "        text-align: right;\n",
       "    }\n",
       "</style>\n",
       "<table border=\"1\" class=\"dataframe\">\n",
       "  <thead>\n",
       "    <tr style=\"text-align: right;\">\n",
       "      <th></th>\n",
       "      <th>ref</th>\n",
       "      <th>title</th>\n",
       "      <th>subtitle</th>\n",
       "      <th>creator</th>\n",
       "      <th>description</th>\n",
       "      <th>version</th>\n",
       "      <th>keywords</th>\n",
       "      <th>last_updated</th>\n",
       "      <th>license_name</th>\n",
       "      <th>size</th>\n",
       "      <th>size(bytes)</th>\n",
       "      <th>downloads</th>\n",
       "      <th>discussions</th>\n",
       "      <th>views</th>\n",
       "      <th>likes</th>\n",
       "      <th>kernels</th>\n",
       "    </tr>\n",
       "  </thead>\n",
       "  <tbody>\n",
       "    <tr>\n",
       "      <th>0</th>\n",
       "      <td>mlg-ulb/creditcardfraud</td>\n",
       "      <td>Credit Card Fraud Detection</td>\n",
       "      <td>Anonymized credit card transactions labeled as...</td>\n",
       "      <td>Machine Learning Group - ULB</td>\n",
       "      <td>Context\\n---------\\n\\nIt is important that cre...</td>\n",
       "      <td>3</td>\n",
       "      <td>finance, machine learning, crime</td>\n",
       "      <td>2018-03-23 01:17:27</td>\n",
       "      <td>Database: Open Database, Contents: Database Co...</td>\n",
       "      <td>66MB</td>\n",
       "      <td>69155632</td>\n",
       "      <td>131731</td>\n",
       "      <td>40</td>\n",
       "      <td>3052086</td>\n",
       "      <td>3323</td>\n",
       "      <td>2121</td>\n",
       "    </tr>\n",
       "    <tr>\n",
       "      <th>1</th>\n",
       "      <td>tmdb/tmdb-movie-metadata</td>\n",
       "      <td>TMDB 5000 Movie Dataset</td>\n",
       "      <td>Metadata on ~5,000 movies from TMDb</td>\n",
       "      <td>The Movie Database (TMDb)</td>\n",
       "      <td>### Background\\nWhat can we say about the succ...</td>\n",
       "      <td>2</td>\n",
       "      <td>film</td>\n",
       "      <td>2017-09-28 01:09:12</td>\n",
       "      <td>Other (specified in description)</td>\n",
       "      <td>9MB</td>\n",
       "      <td>9747156</td>\n",
       "      <td>92202</td>\n",
       "      <td>53</td>\n",
       "      <td>630515</td>\n",
       "      <td>1601</td>\n",
       "      <td>1462</td>\n",
       "    </tr>\n",
       "    <tr>\n",
       "      <th>2</th>\n",
       "      <td>hugomathien/soccer</td>\n",
       "      <td>European Soccer Database</td>\n",
       "      <td>25k+ matches, players &amp; teams attributes for E...</td>\n",
       "      <td>Hugo Mathien</td>\n",
       "      <td>The ultimate Soccer database for data analysis...</td>\n",
       "      <td>10</td>\n",
       "      <td>europe, association football</td>\n",
       "      <td>2016-10-23 22:31:38</td>\n",
       "      <td>Database: Open Database, Contents: © Original ...</td>\n",
       "      <td>34MB</td>\n",
       "      <td>36121187</td>\n",
       "      <td>80922</td>\n",
       "      <td>95</td>\n",
       "      <td>638231</td>\n",
       "      <td>1875</td>\n",
       "      <td>1458</td>\n",
       "    </tr>\n",
       "  </tbody>\n",
       "</table>\n",
       "</div>"
      ],
      "text/plain": [
       "                        ref                        title  \\\n",
       "0   mlg-ulb/creditcardfraud  Credit Card Fraud Detection   \n",
       "1  tmdb/tmdb-movie-metadata      TMDB 5000 Movie Dataset   \n",
       "2        hugomathien/soccer     European Soccer Database   \n",
       "\n",
       "                                            subtitle  \\\n",
       "0  Anonymized credit card transactions labeled as...   \n",
       "1                Metadata on ~5,000 movies from TMDb   \n",
       "2  25k+ matches, players & teams attributes for E...   \n",
       "\n",
       "                        creator  \\\n",
       "0  Machine Learning Group - ULB   \n",
       "1     The Movie Database (TMDb)   \n",
       "2                  Hugo Mathien   \n",
       "\n",
       "                                         description  version  \\\n",
       "0  Context\\n---------\\n\\nIt is important that cre...        3   \n",
       "1  ### Background\\nWhat can we say about the succ...        2   \n",
       "2  The ultimate Soccer database for data analysis...       10   \n",
       "\n",
       "                           keywords        last_updated  \\\n",
       "0  finance, machine learning, crime 2018-03-23 01:17:27   \n",
       "1                              film 2017-09-28 01:09:12   \n",
       "2      europe, association football 2016-10-23 22:31:38   \n",
       "\n",
       "                                        license_name  size  size(bytes)  \\\n",
       "0  Database: Open Database, Contents: Database Co...  66MB     69155632   \n",
       "1                   Other (specified in description)   9MB      9747156   \n",
       "2  Database: Open Database, Contents: © Original ...  34MB     36121187   \n",
       "\n",
       "   downloads  discussions    views  likes  kernels  \n",
       "0     131731           40  3052086   3323     2121  \n",
       "1      92202           53   630515   1601     1462  \n",
       "2      80922           95   638231   1875     1458  "
      ]
     },
     "execution_count": 3,
     "metadata": {},
     "output_type": "execute_result"
    }
   ],
   "source": [
    "print(df.shape)\n",
    "df.head(3)"
   ]
  },
  {
   "cell_type": "code",
   "execution_count": 4,
   "metadata": {},
   "outputs": [
    {
     "data": {
      "text/plain": [
       "<matplotlib.axes._subplots.AxesSubplot at 0x7fb0d0954970>"
      ]
     },
     "execution_count": 4,
     "metadata": {},
     "output_type": "execute_result"
    },
    {
     "data": {
      "image/png": "[encoded data removed]",
      "text/plain": [
       "<Figure size 432x288 with 1 Axes>"
      ]
     },
     "metadata": {
      "needs_background": "light"
     },
     "output_type": "display_data"
    }
   ],
   "source": [
    "df['downloads'].plot()"
   ]
  },
  {
   "cell_type": "code",
   "execution_count": 12,
   "metadata": {},
   "outputs": [
    {
     "data": {
      "text/plain": [
       "1671"
      ]
     },
     "execution_count": 12,
     "metadata": {},
     "output_type": "execute_result"
    }
   ],
   "source": [
    "maskZero = df['downloads'] == 0\n",
    "maskZero.sum()"
   ]
  },
  {
   "cell_type": "code",
   "execution_count": 13,
   "metadata": {},
   "outputs": [
    {
     "data": {
      "text/plain": [
       "1100"
      ]
     },
     "execution_count": 13,
     "metadata": {},
     "output_type": "execute_result"
    }
   ],
   "source": [
    "maskTop = df['downloads'] >= 1000\n",
    "maskTop.sum()"
   ]
  },
  {
   "cell_type": "code",
   "execution_count": 21,
   "metadata": {},
   "outputs": [
    {
     "data": {
      "image/png": "[encoded data removed]",
      "text/plain": [
       "<Figure size 432x288 with 1 Axes>"
      ]
     },
     "metadata": {
      "needs_background": "light"
     },
     "output_type": "display_data"
    }
   ],
   "source": [
    "df['downloads'].plot();"
   ]
  },
  {
   "cell_type": "code",
   "execution_count": 22,
   "metadata": {},
   "outputs": [
    {
     "data": {
      "image/png": "[encoded data removed]",
      "text/plain": [
       "<Figure size 432x288 with 1 Axes>"
      ]
     },
     "metadata": {
      "needs_background": "light"
     },
     "output_type": "display_data"
    }
   ],
   "source": [
    "df['downloads'].nlargest(1100).plot();"
   ]
  },
  {
   "cell_type": "code",
   "execution_count": 18,
   "metadata": {},
   "outputs": [
    {
     "data": {
      "text/plain": [
       "<matplotlib.axes._subplots.AxesSubplot at 0x7fb098308a60>"
      ]
     },
     "execution_count": 18,
     "metadata": {},
     "output_type": "execute_result"
    },
    {
     "data": {
      "image/png": "[encoded data removed]",
      "text/plain": [
       "<Figure size 360x360 with 1 Axes>"
      ]
     },
     "metadata": {
      "needs_background": "light"
     },
     "output_type": "display_data"
    }
   ],
   "source": [
    "df['downloads'].nsmallest(1700).plot(figsize=(5,5))"
   ]
  },
  {
   "cell_type": "code",
   "execution_count": 10,
   "metadata": {},
   "outputs": [
    {
     "data": {
      "text/plain": [
       "16847    0\n",
       "16848    0\n",
       "16849    0\n",
       "16850    0\n",
       "16851    0\n",
       "        ..\n",
       "18342    0\n",
       "18343    0\n",
       "18344    0\n",
       "18345    0\n",
       "18346    0\n",
       "Name: downloads, Length: 1500, dtype: int64"
      ]
     },
     "execution_count": 10,
     "metadata": {},
     "output_type": "execute_result"
    }
   ],
   "source": [
    "df['downloads'].nsmallest(1500)"
   ]
  },
  {
   "cell_type": "code",
   "execution_count": null,
   "metadata": {},
   "outputs": [],
   "source": []
  },
  {
   "cell_type": "code",
   "execution_count": null,
   "metadata": {},
   "outputs": [],
   "source": []
  },
  {
   "cell_type": "code",
   "execution_count": null,
   "metadata": {},
   "outputs": [],
   "source": []
  },
  {
   "cell_type": "code",
   "execution_count": null,
   "metadata": {},
   "outputs": [],
   "source": []
  },
  {
   "cell_type": "code",
   "execution_count": null,
   "metadata": {},
   "outputs": [],
   "source": []
  },
  {
   "cell_type": "code",
   "execution_count": null,
   "metadata": {},
   "outputs": [],
   "source": []
  },
  {
   "cell_type": "code",
   "execution_count": null,
   "metadata": {},
   "outputs": [],
   "source": []
  },
  {
   "cell_type": "code",
   "execution_count": null,
   "metadata": {},
   "outputs": [],
   "source": []
  }
 ],
 "metadata": {
  "kernelspec": {
   "display_name": "Python 3",
   "language": "python",
   "name": "python3"
  },
  "language_info": {
   "codemirror_mode": {
    "name": "ipython",
    "version": 3
   },
   "file_extension": ".py",
   "mimetype": "text/x-python",
   "name": "python",
   "nbconvert_exporter": "python",
   "pygments_lexer": "ipython3",
   "version": "3.8.1"
  }
 },
 "nbformat": 4,
 "nbformat_minor": 4
}
