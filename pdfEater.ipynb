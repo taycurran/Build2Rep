{
 "cells": [
  {
   "cell_type": "code",
   "execution_count": 3,
   "metadata": {},
   "outputs": [],
   "source": [
    "# Necessary Variables\n",
    "#homeURL\n",
    "#link_selectors\n",
    "\n",
    "homeURL = \"http://heatexchanger-fouling.com/proceedings.htm\"\n",
    "\n",
    "RP_selectors = []\n",
    "for RP in range(1, 10):\n",
    "    RP_selectors.append(f\"#content > ul:nth-child(2) > li:nth-child({link}) > b > a\")\n",
    "\n"
   ]
  },
  {
   "cell_type": "code",
   "execution_count": 2,
   "metadata": {},
   "outputs": [
    {
     "data": {
      "text/plain": [
       "45"
      ]
     },
     "execution_count": 2,
     "metadata": {},
     "output_type": "execute_result"
    }
   ],
   "source": [
    "from urllib.request import urlopen\n",
    "from bs4 import BeautifulSoup\n",
    "\n",
    "html = urlopen('http://heatexchanger-fouling.com/proceedings19.htm')\n",
    "bs = BeautifulSoup(html, 'html.parser')\n",
    "\n",
    "links_all = bs.find_all('a', href=True)\n",
    "links2019 = links_all[12:57]\n",
    "len(links2019)"
   ]
  },
  {
   "cell_type": "code",
   "execution_count": 13,
   "metadata": {},
   "outputs": [],
   "source": [
    "# Selector Pattern from Page: http://heatexchanger-fouling.com/proceedings19.htm\n",
    "\n",
    "#content > ul:nth-child(24) > li:nth-child(4) > ol > li:nth-child(1) > a > b\n",
    "#content > ul:nth-child(24) > li:nth-child(4) > ol > li:nth-child(2) > a > b\n",
    "#content > ul:nth-child(24) > li:nth-child(4) > ol > li:nth-child(3) > a > b\n",
    "\n",
    "#content > ul:nth-child(24) > li:nth-child(5) > ol > li > a > b\n",
    "\n",
    "#content > ul:nth-child(24) > li:nth-child(6) > ol > li:nth-child(1) > a > b\n",
    "#content > ul:nth-child(24) > li:nth-child(6) > ol > li:nth-child(2) > a > b\n",
    "\n",
    "#content > ul:nth-child(24) > li:nth-child(7) > ol > li > a\n",
    "\n",
    "#content > ul:nth-child(24) > li:nth-child(8) > ol > li:nth-child(1) > a > b\n",
    "#content > ul:nth-child(24) > li:nth-child(8) > ol > li:nth-child(2) > a > b\n",
    "#content > ul:nth-child(24) > li:nth-child(8) > ol > li:nth-child(3) > a > b\n",
    "\n",
    "#content > ul:nth-child(24) > li:nth-child(15) > ol > li:nth-child(3) > a > b\n",
    "\n",
    "# I can identify a pattern...\n",
    "\n",
    "# children = [4, 6, 8-15]\n",
    "# no_children = [5, 7]"
   ]
  },
  {
   "cell_type": "code",
   "execution_count": 4,
   "metadata": {},
   "outputs": [
    {
     "data": {
      "text/plain": [
       "3"
      ]
     },
     "execution_count": 4,
     "metadata": {},
     "output_type": "execute_result"
    }
   ],
   "source": [
    "from itertools import chain\n",
    "children_range = chain(range(4, 5), range(6, 7), range(8, 16))\n",
    "no_children_range = chain(range(3, 4), range(5, 6))\n",
    "\n",
    "rangeA = range(1, 4)\n",
    "ranceC = range(6, 7)\n",
    "rangeE = range(8, 16)\n",
    "\n",
    "selA = []\n",
    "selB = ['#content > ul:nth-child(24) > li:nth-child(5) > ol > li > a > b']\n",
    "selC = []\n",
    "selD = ['#content > ul:nth-child(24) > li:nth-child(7) > ol > li > a > b']\n",
    "selE = []\n",
    "\n",
    "\n",
    "for subheader in rangeA:\n",
    "    selA.append(f\"#content > ul:nth-child(24) > li:nth-child(4) > ol > li:nth-child({subheader}) > a > b\")\n",
    "\n",
    "len(sub_slectr_ch_A)\n",
    "    "
   ]
  },
  {
   "cell_type": "code",
   "execution_count": null,
   "metadata": {},
   "outputs": [],
   "source": []
  }
 ],
 "metadata": {
  "kernelspec": {
   "display_name": "Python 3",
   "language": "python",
   "name": "python3"
  },
  "language_info": {
   "codemirror_mode": {
    "name": "ipython",
    "version": 3
   },
   "file_extension": ".py",
   "mimetype": "text/x-python",
   "name": "python",
   "nbconvert_exporter": "python",
   "pygments_lexer": "ipython3",
   "version": "3.8.1"
  }
 },
 "nbformat": 4,
 "nbformat_minor": 4
}
